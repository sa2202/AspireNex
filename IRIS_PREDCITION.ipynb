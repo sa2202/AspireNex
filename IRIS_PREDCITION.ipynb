{
  "nbformat": 4,
  "nbformat_minor": 0,
  "metadata": {
    "colab": {
      "provenance": [],
      "authorship_tag": "ABX9TyM4Lff/uvfG6hJSjDfiPkJH",
      "include_colab_link": true
    },
    "kernelspec": {
      "name": "python3",
      "display_name": "Python 3"
    },
    "language_info": {
      "name": "python"
    }
  },
  "cells": [
    {
      "cell_type": "markdown",
      "metadata": {
        "id": "view-in-github",
        "colab_type": "text"
      },
      "source": [
        "<a href=\"https://colab.research.google.com/github/sa2202/AspireNex/blob/main/IRIS_PREDCITION.ipynb\" target=\"_parent\"><img src=\"https://colab.research.google.com/assets/colab-badge.svg\" alt=\"Open In Colab\"/></a>"
      ]
    },
    {
      "cell_type": "code",
      "execution_count": 1,
      "metadata": {
        "id": "TTkRVtlLWmhF"
      },
      "outputs": [],
      "source": [
        "import pandas as pd\n",
        "import numpy as np\n",
        "import matplotlib.pyplot as plt\n",
        "import seaborn as sns\n",
        "from sklearn.preprocessing import LabelEncoder, StandardScaler\n",
        "from sklearn.model_selection import train_test_split\n",
        "from sklearn.ensemble import RandomForestClassifier, GradientBoostingClassifier\n",
        "from sklearn.svm import SVC\n",
        "from sklearn.linear_model import LogisticRegression\n",
        "from sklearn.neighbors import KNeighborsClassifier\n",
        "from sklearn.metrics import accuracy_score, classification_report, f1_score, confusion_matrix\n",
        "from keras.models import Sequential\n",
        "from keras.layers import Dense, Conv1D, Flatten, SimpleRNN, LSTM, Bidirectional\n",
        "from keras.utils import to_categorical"
      ]
    },
    {
      "cell_type": "code",
      "source": [
        "file_path = '/content/IRIS.csv'\n",
        "data = pd.read_csv(file_path)"
      ],
      "metadata": {
        "id": "T7G8wCLeW4-i"
      },
      "execution_count": 3,
      "outputs": []
    },
    {
      "cell_type": "code",
      "source": [
        "data.head()"
      ],
      "metadata": {
        "colab": {
          "base_uri": "https://localhost:8080/",
          "height": 206
        },
        "id": "oWFu86aeXB4L",
        "outputId": "7bdcc158-cdb6-447a-a31f-f2f9db0bd05d"
      },
      "execution_count": 4,
      "outputs": [
        {
          "output_type": "execute_result",
          "data": {
            "text/plain": [
              "   sepal_length  sepal_width  petal_length  petal_width      species\n",
              "0           5.1          3.5           1.4          0.2  Iris-setosa\n",
              "1           4.9          3.0           1.4          0.2  Iris-setosa\n",
              "2           4.7          3.2           1.3          0.2  Iris-setosa\n",
              "3           4.6          3.1           1.5          0.2  Iris-setosa\n",
              "4           5.0          3.6           1.4          0.2  Iris-setosa"
            ],
            "text/html": [
              "\n",
              "  <div id=\"df-c7ef0c16-b9ea-4ee8-81a9-5fa51fec5c5a\" class=\"colab-df-container\">\n",
              "    <div>\n",
              "<style scoped>\n",
              "    .dataframe tbody tr th:only-of-type {\n",
              "        vertical-align: middle;\n",
              "    }\n",
              "\n",
              "    .dataframe tbody tr th {\n",
              "        vertical-align: top;\n",
              "    }\n",
              "\n",
              "    .dataframe thead th {\n",
              "        text-align: right;\n",
              "    }\n",
              "</style>\n",
              "<table border=\"1\" class=\"dataframe\">\n",
              "  <thead>\n",
              "    <tr style=\"text-align: right;\">\n",
              "      <th></th>\n",
              "      <th>sepal_length</th>\n",
              "      <th>sepal_width</th>\n",
              "      <th>petal_length</th>\n",
              "      <th>petal_width</th>\n",
              "      <th>species</th>\n",
              "    </tr>\n",
              "  </thead>\n",
              "  <tbody>\n",
              "    <tr>\n",
              "      <th>0</th>\n",
              "      <td>5.1</td>\n",
              "      <td>3.5</td>\n",
              "      <td>1.4</td>\n",
              "      <td>0.2</td>\n",
              "      <td>Iris-setosa</td>\n",
              "    </tr>\n",
              "    <tr>\n",
              "      <th>1</th>\n",
              "      <td>4.9</td>\n",
              "      <td>3.0</td>\n",
              "      <td>1.4</td>\n",
              "      <td>0.2</td>\n",
              "      <td>Iris-setosa</td>\n",
              "    </tr>\n",
              "    <tr>\n",
              "      <th>2</th>\n",
              "      <td>4.7</td>\n",
              "      <td>3.2</td>\n",
              "      <td>1.3</td>\n",
              "      <td>0.2</td>\n",
              "      <td>Iris-setosa</td>\n",
              "    </tr>\n",
              "    <tr>\n",
              "      <th>3</th>\n",
              "      <td>4.6</td>\n",
              "      <td>3.1</td>\n",
              "      <td>1.5</td>\n",
              "      <td>0.2</td>\n",
              "      <td>Iris-setosa</td>\n",
              "    </tr>\n",
              "    <tr>\n",
              "      <th>4</th>\n",
              "      <td>5.0</td>\n",
              "      <td>3.6</td>\n",
              "      <td>1.4</td>\n",
              "      <td>0.2</td>\n",
              "      <td>Iris-setosa</td>\n",
              "    </tr>\n",
              "  </tbody>\n",
              "</table>\n",
              "</div>\n",
              "    <div class=\"colab-df-buttons\">\n",
              "\n",
              "  <div class=\"colab-df-container\">\n",
              "    <button class=\"colab-df-convert\" onclick=\"convertToInteractive('df-c7ef0c16-b9ea-4ee8-81a9-5fa51fec5c5a')\"\n",
              "            title=\"Convert this dataframe to an interactive table.\"\n",
              "            style=\"display:none;\">\n",
              "\n",
              "  <svg xmlns=\"http://www.w3.org/2000/svg\" height=\"24px\" viewBox=\"0 -960 960 960\">\n",
              "    <path d=\"M120-120v-720h720v720H120Zm60-500h600v-160H180v160Zm220 220h160v-160H400v160Zm0 220h160v-160H400v160ZM180-400h160v-160H180v160Zm440 0h160v-160H620v160ZM180-180h160v-160H180v160Zm440 0h160v-160H620v160Z\"/>\n",
              "  </svg>\n",
              "    </button>\n",
              "\n",
              "  <style>\n",
              "    .colab-df-container {\n",
              "      display:flex;\n",
              "      gap: 12px;\n",
              "    }\n",
              "\n",
              "    .colab-df-convert {\n",
              "      background-color: #E8F0FE;\n",
              "      border: none;\n",
              "      border-radius: 50%;\n",
              "      cursor: pointer;\n",
              "      display: none;\n",
              "      fill: #1967D2;\n",
              "      height: 32px;\n",
              "      padding: 0 0 0 0;\n",
              "      width: 32px;\n",
              "    }\n",
              "\n",
              "    .colab-df-convert:hover {\n",
              "      background-color: #E2EBFA;\n",
              "      box-shadow: 0px 1px 2px rgba(60, 64, 67, 0.3), 0px 1px 3px 1px rgba(60, 64, 67, 0.15);\n",
              "      fill: #174EA6;\n",
              "    }\n",
              "\n",
              "    .colab-df-buttons div {\n",
              "      margin-bottom: 4px;\n",
              "    }\n",
              "\n",
              "    [theme=dark] .colab-df-convert {\n",
              "      background-color: #3B4455;\n",
              "      fill: #D2E3FC;\n",
              "    }\n",
              "\n",
              "    [theme=dark] .colab-df-convert:hover {\n",
              "      background-color: #434B5C;\n",
              "      box-shadow: 0px 1px 3px 1px rgba(0, 0, 0, 0.15);\n",
              "      filter: drop-shadow(0px 1px 2px rgba(0, 0, 0, 0.3));\n",
              "      fill: #FFFFFF;\n",
              "    }\n",
              "  </style>\n",
              "\n",
              "    <script>\n",
              "      const buttonEl =\n",
              "        document.querySelector('#df-c7ef0c16-b9ea-4ee8-81a9-5fa51fec5c5a button.colab-df-convert');\n",
              "      buttonEl.style.display =\n",
              "        google.colab.kernel.accessAllowed ? 'block' : 'none';\n",
              "\n",
              "      async function convertToInteractive(key) {\n",
              "        const element = document.querySelector('#df-c7ef0c16-b9ea-4ee8-81a9-5fa51fec5c5a');\n",
              "        const dataTable =\n",
              "          await google.colab.kernel.invokeFunction('convertToInteractive',\n",
              "                                                    [key], {});\n",
              "        if (!dataTable) return;\n",
              "\n",
              "        const docLinkHtml = 'Like what you see? Visit the ' +\n",
              "          '<a target=\"_blank\" href=https://colab.research.google.com/notebooks/data_table.ipynb>data table notebook</a>'\n",
              "          + ' to learn more about interactive tables.';\n",
              "        element.innerHTML = '';\n",
              "        dataTable['output_type'] = 'display_data';\n",
              "        await google.colab.output.renderOutput(dataTable, element);\n",
              "        const docLink = document.createElement('div');\n",
              "        docLink.innerHTML = docLinkHtml;\n",
              "        element.appendChild(docLink);\n",
              "      }\n",
              "    </script>\n",
              "  </div>\n",
              "\n",
              "\n",
              "<div id=\"df-08575e23-3b3d-4ecf-a974-db92e9b42860\">\n",
              "  <button class=\"colab-df-quickchart\" onclick=\"quickchart('df-08575e23-3b3d-4ecf-a974-db92e9b42860')\"\n",
              "            title=\"Suggest charts\"\n",
              "            style=\"display:none;\">\n",
              "\n",
              "<svg xmlns=\"http://www.w3.org/2000/svg\" height=\"24px\"viewBox=\"0 0 24 24\"\n",
              "     width=\"24px\">\n",
              "    <g>\n",
              "        <path d=\"M19 3H5c-1.1 0-2 .9-2 2v14c0 1.1.9 2 2 2h14c1.1 0 2-.9 2-2V5c0-1.1-.9-2-2-2zM9 17H7v-7h2v7zm4 0h-2V7h2v10zm4 0h-2v-4h2v4z\"/>\n",
              "    </g>\n",
              "</svg>\n",
              "  </button>\n",
              "\n",
              "<style>\n",
              "  .colab-df-quickchart {\n",
              "      --bg-color: #E8F0FE;\n",
              "      --fill-color: #1967D2;\n",
              "      --hover-bg-color: #E2EBFA;\n",
              "      --hover-fill-color: #174EA6;\n",
              "      --disabled-fill-color: #AAA;\n",
              "      --disabled-bg-color: #DDD;\n",
              "  }\n",
              "\n",
              "  [theme=dark] .colab-df-quickchart {\n",
              "      --bg-color: #3B4455;\n",
              "      --fill-color: #D2E3FC;\n",
              "      --hover-bg-color: #434B5C;\n",
              "      --hover-fill-color: #FFFFFF;\n",
              "      --disabled-bg-color: #3B4455;\n",
              "      --disabled-fill-color: #666;\n",
              "  }\n",
              "\n",
              "  .colab-df-quickchart {\n",
              "    background-color: var(--bg-color);\n",
              "    border: none;\n",
              "    border-radius: 50%;\n",
              "    cursor: pointer;\n",
              "    display: none;\n",
              "    fill: var(--fill-color);\n",
              "    height: 32px;\n",
              "    padding: 0;\n",
              "    width: 32px;\n",
              "  }\n",
              "\n",
              "  .colab-df-quickchart:hover {\n",
              "    background-color: var(--hover-bg-color);\n",
              "    box-shadow: 0 1px 2px rgba(60, 64, 67, 0.3), 0 1px 3px 1px rgba(60, 64, 67, 0.15);\n",
              "    fill: var(--button-hover-fill-color);\n",
              "  }\n",
              "\n",
              "  .colab-df-quickchart-complete:disabled,\n",
              "  .colab-df-quickchart-complete:disabled:hover {\n",
              "    background-color: var(--disabled-bg-color);\n",
              "    fill: var(--disabled-fill-color);\n",
              "    box-shadow: none;\n",
              "  }\n",
              "\n",
              "  .colab-df-spinner {\n",
              "    border: 2px solid var(--fill-color);\n",
              "    border-color: transparent;\n",
              "    border-bottom-color: var(--fill-color);\n",
              "    animation:\n",
              "      spin 1s steps(1) infinite;\n",
              "  }\n",
              "\n",
              "  @keyframes spin {\n",
              "    0% {\n",
              "      border-color: transparent;\n",
              "      border-bottom-color: var(--fill-color);\n",
              "      border-left-color: var(--fill-color);\n",
              "    }\n",
              "    20% {\n",
              "      border-color: transparent;\n",
              "      border-left-color: var(--fill-color);\n",
              "      border-top-color: var(--fill-color);\n",
              "    }\n",
              "    30% {\n",
              "      border-color: transparent;\n",
              "      border-left-color: var(--fill-color);\n",
              "      border-top-color: var(--fill-color);\n",
              "      border-right-color: var(--fill-color);\n",
              "    }\n",
              "    40% {\n",
              "      border-color: transparent;\n",
              "      border-right-color: var(--fill-color);\n",
              "      border-top-color: var(--fill-color);\n",
              "    }\n",
              "    60% {\n",
              "      border-color: transparent;\n",
              "      border-right-color: var(--fill-color);\n",
              "    }\n",
              "    80% {\n",
              "      border-color: transparent;\n",
              "      border-right-color: var(--fill-color);\n",
              "      border-bottom-color: var(--fill-color);\n",
              "    }\n",
              "    90% {\n",
              "      border-color: transparent;\n",
              "      border-bottom-color: var(--fill-color);\n",
              "    }\n",
              "  }\n",
              "</style>\n",
              "\n",
              "  <script>\n",
              "    async function quickchart(key) {\n",
              "      const quickchartButtonEl =\n",
              "        document.querySelector('#' + key + ' button');\n",
              "      quickchartButtonEl.disabled = true;  // To prevent multiple clicks.\n",
              "      quickchartButtonEl.classList.add('colab-df-spinner');\n",
              "      try {\n",
              "        const charts = await google.colab.kernel.invokeFunction(\n",
              "            'suggestCharts', [key], {});\n",
              "      } catch (error) {\n",
              "        console.error('Error during call to suggestCharts:', error);\n",
              "      }\n",
              "      quickchartButtonEl.classList.remove('colab-df-spinner');\n",
              "      quickchartButtonEl.classList.add('colab-df-quickchart-complete');\n",
              "    }\n",
              "    (() => {\n",
              "      let quickchartButtonEl =\n",
              "        document.querySelector('#df-08575e23-3b3d-4ecf-a974-db92e9b42860 button');\n",
              "      quickchartButtonEl.style.display =\n",
              "        google.colab.kernel.accessAllowed ? 'block' : 'none';\n",
              "    })();\n",
              "  </script>\n",
              "</div>\n",
              "\n",
              "    </div>\n",
              "  </div>\n"
            ],
            "application/vnd.google.colaboratory.intrinsic+json": {
              "type": "dataframe",
              "variable_name": "data",
              "summary": "{\n  \"name\": \"data\",\n  \"rows\": 150,\n  \"fields\": [\n    {\n      \"column\": \"sepal_length\",\n      \"properties\": {\n        \"dtype\": \"number\",\n        \"std\": 0.828066127977863,\n        \"min\": 4.3,\n        \"max\": 7.9,\n        \"num_unique_values\": 35,\n        \"samples\": [\n          6.2,\n          4.5,\n          5.6\n        ],\n        \"semantic_type\": \"\",\n        \"description\": \"\"\n      }\n    },\n    {\n      \"column\": \"sepal_width\",\n      \"properties\": {\n        \"dtype\": \"number\",\n        \"std\": 0.4335943113621737,\n        \"min\": 2.0,\n        \"max\": 4.4,\n        \"num_unique_values\": 23,\n        \"samples\": [\n          2.3,\n          4.0,\n          3.5\n        ],\n        \"semantic_type\": \"\",\n        \"description\": \"\"\n      }\n    },\n    {\n      \"column\": \"petal_length\",\n      \"properties\": {\n        \"dtype\": \"number\",\n        \"std\": 1.7644204199522626,\n        \"min\": 1.0,\n        \"max\": 6.9,\n        \"num_unique_values\": 43,\n        \"samples\": [\n          6.7,\n          3.8,\n          3.7\n        ],\n        \"semantic_type\": \"\",\n        \"description\": \"\"\n      }\n    },\n    {\n      \"column\": \"petal_width\",\n      \"properties\": {\n        \"dtype\": \"number\",\n        \"std\": 0.7631607417008411,\n        \"min\": 0.1,\n        \"max\": 2.5,\n        \"num_unique_values\": 22,\n        \"samples\": [\n          0.2,\n          1.2,\n          1.3\n        ],\n        \"semantic_type\": \"\",\n        \"description\": \"\"\n      }\n    },\n    {\n      \"column\": \"species\",\n      \"properties\": {\n        \"dtype\": \"category\",\n        \"num_unique_values\": 3,\n        \"samples\": [\n          \"Iris-setosa\",\n          \"Iris-versicolor\",\n          \"Iris-virginica\"\n        ],\n        \"semantic_type\": \"\",\n        \"description\": \"\"\n      }\n    }\n  ]\n}"
            }
          },
          "metadata": {},
          "execution_count": 4
        }
      ]
    },
    {
      "cell_type": "code",
      "source": [
        "data.info()"
      ],
      "metadata": {
        "colab": {
          "base_uri": "https://localhost:8080/"
        },
        "id": "ZP1zebz7cdT8",
        "outputId": "d740315a-69ad-49e7-fbcd-9463a9a668c7"
      },
      "execution_count": 34,
      "outputs": [
        {
          "output_type": "stream",
          "name": "stdout",
          "text": [
            "<class 'pandas.core.frame.DataFrame'>\n",
            "RangeIndex: 150 entries, 0 to 149\n",
            "Data columns (total 5 columns):\n",
            " #   Column        Non-Null Count  Dtype  \n",
            "---  ------        --------------  -----  \n",
            " 0   sepal_length  150 non-null    float64\n",
            " 1   sepal_width   150 non-null    float64\n",
            " 2   petal_length  150 non-null    float64\n",
            " 3   petal_width   150 non-null    float64\n",
            " 4   species       150 non-null    object \n",
            "dtypes: float64(4), object(1)\n",
            "memory usage: 6.0+ KB\n"
          ]
        }
      ]
    },
    {
      "cell_type": "code",
      "source": [
        "data.columns"
      ],
      "metadata": {
        "colab": {
          "base_uri": "https://localhost:8080/"
        },
        "id": "sQQ-qnzecgTK",
        "outputId": "6545492e-ae58-4744-9904-cfb959b98d40"
      },
      "execution_count": 35,
      "outputs": [
        {
          "output_type": "execute_result",
          "data": {
            "text/plain": [
              "Index(['sepal_length', 'sepal_width', 'petal_length', 'petal_width',\n",
              "       'species'],\n",
              "      dtype='object')"
            ]
          },
          "metadata": {},
          "execution_count": 35
        }
      ]
    },
    {
      "cell_type": "code",
      "source": [
        "data.shape"
      ],
      "metadata": {
        "colab": {
          "base_uri": "https://localhost:8080/"
        },
        "id": "LqTnn_E1ciQA",
        "outputId": "cac38c70-b527-43af-a1be-1c6df94ba1f2"
      },
      "execution_count": 36,
      "outputs": [
        {
          "output_type": "execute_result",
          "data": {
            "text/plain": [
              "(150, 5)"
            ]
          },
          "metadata": {},
          "execution_count": 36
        }
      ]
    },
    {
      "cell_type": "code",
      "source": [
        "data.describe()"
      ],
      "metadata": {
        "colab": {
          "base_uri": "https://localhost:8080/",
          "height": 300
        },
        "id": "sHhWCNozclhs",
        "outputId": "09d6e585-39b7-45f0-9235-5b27d08a2a6f"
      },
      "execution_count": 37,
      "outputs": [
        {
          "output_type": "execute_result",
          "data": {
            "text/plain": [
              "       sepal_length  sepal_width  petal_length  petal_width\n",
              "count    150.000000   150.000000    150.000000   150.000000\n",
              "mean       5.843333     3.054000      3.758667     1.198667\n",
              "std        0.828066     0.433594      1.764420     0.763161\n",
              "min        4.300000     2.000000      1.000000     0.100000\n",
              "25%        5.100000     2.800000      1.600000     0.300000\n",
              "50%        5.800000     3.000000      4.350000     1.300000\n",
              "75%        6.400000     3.300000      5.100000     1.800000\n",
              "max        7.900000     4.400000      6.900000     2.500000"
            ],
            "text/html": [
              "\n",
              "  <div id=\"df-81c864f5-beaa-42a9-8081-d3e753b85077\" class=\"colab-df-container\">\n",
              "    <div>\n",
              "<style scoped>\n",
              "    .dataframe tbody tr th:only-of-type {\n",
              "        vertical-align: middle;\n",
              "    }\n",
              "\n",
              "    .dataframe tbody tr th {\n",
              "        vertical-align: top;\n",
              "    }\n",
              "\n",
              "    .dataframe thead th {\n",
              "        text-align: right;\n",
              "    }\n",
              "</style>\n",
              "<table border=\"1\" class=\"dataframe\">\n",
              "  <thead>\n",
              "    <tr style=\"text-align: right;\">\n",
              "      <th></th>\n",
              "      <th>sepal_length</th>\n",
              "      <th>sepal_width</th>\n",
              "      <th>petal_length</th>\n",
              "      <th>petal_width</th>\n",
              "    </tr>\n",
              "  </thead>\n",
              "  <tbody>\n",
              "    <tr>\n",
              "      <th>count</th>\n",
              "      <td>150.000000</td>\n",
              "      <td>150.000000</td>\n",
              "      <td>150.000000</td>\n",
              "      <td>150.000000</td>\n",
              "    </tr>\n",
              "    <tr>\n",
              "      <th>mean</th>\n",
              "      <td>5.843333</td>\n",
              "      <td>3.054000</td>\n",
              "      <td>3.758667</td>\n",
              "      <td>1.198667</td>\n",
              "    </tr>\n",
              "    <tr>\n",
              "      <th>std</th>\n",
              "      <td>0.828066</td>\n",
              "      <td>0.433594</td>\n",
              "      <td>1.764420</td>\n",
              "      <td>0.763161</td>\n",
              "    </tr>\n",
              "    <tr>\n",
              "      <th>min</th>\n",
              "      <td>4.300000</td>\n",
              "      <td>2.000000</td>\n",
              "      <td>1.000000</td>\n",
              "      <td>0.100000</td>\n",
              "    </tr>\n",
              "    <tr>\n",
              "      <th>25%</th>\n",
              "      <td>5.100000</td>\n",
              "      <td>2.800000</td>\n",
              "      <td>1.600000</td>\n",
              "      <td>0.300000</td>\n",
              "    </tr>\n",
              "    <tr>\n",
              "      <th>50%</th>\n",
              "      <td>5.800000</td>\n",
              "      <td>3.000000</td>\n",
              "      <td>4.350000</td>\n",
              "      <td>1.300000</td>\n",
              "    </tr>\n",
              "    <tr>\n",
              "      <th>75%</th>\n",
              "      <td>6.400000</td>\n",
              "      <td>3.300000</td>\n",
              "      <td>5.100000</td>\n",
              "      <td>1.800000</td>\n",
              "    </tr>\n",
              "    <tr>\n",
              "      <th>max</th>\n",
              "      <td>7.900000</td>\n",
              "      <td>4.400000</td>\n",
              "      <td>6.900000</td>\n",
              "      <td>2.500000</td>\n",
              "    </tr>\n",
              "  </tbody>\n",
              "</table>\n",
              "</div>\n",
              "    <div class=\"colab-df-buttons\">\n",
              "\n",
              "  <div class=\"colab-df-container\">\n",
              "    <button class=\"colab-df-convert\" onclick=\"convertToInteractive('df-81c864f5-beaa-42a9-8081-d3e753b85077')\"\n",
              "            title=\"Convert this dataframe to an interactive table.\"\n",
              "            style=\"display:none;\">\n",
              "\n",
              "  <svg xmlns=\"http://www.w3.org/2000/svg\" height=\"24px\" viewBox=\"0 -960 960 960\">\n",
              "    <path d=\"M120-120v-720h720v720H120Zm60-500h600v-160H180v160Zm220 220h160v-160H400v160Zm0 220h160v-160H400v160ZM180-400h160v-160H180v160Zm440 0h160v-160H620v160ZM180-180h160v-160H180v160Zm440 0h160v-160H620v160Z\"/>\n",
              "  </svg>\n",
              "    </button>\n",
              "\n",
              "  <style>\n",
              "    .colab-df-container {\n",
              "      display:flex;\n",
              "      gap: 12px;\n",
              "    }\n",
              "\n",
              "    .colab-df-convert {\n",
              "      background-color: #E8F0FE;\n",
              "      border: none;\n",
              "      border-radius: 50%;\n",
              "      cursor: pointer;\n",
              "      display: none;\n",
              "      fill: #1967D2;\n",
              "      height: 32px;\n",
              "      padding: 0 0 0 0;\n",
              "      width: 32px;\n",
              "    }\n",
              "\n",
              "    .colab-df-convert:hover {\n",
              "      background-color: #E2EBFA;\n",
              "      box-shadow: 0px 1px 2px rgba(60, 64, 67, 0.3), 0px 1px 3px 1px rgba(60, 64, 67, 0.15);\n",
              "      fill: #174EA6;\n",
              "    }\n",
              "\n",
              "    .colab-df-buttons div {\n",
              "      margin-bottom: 4px;\n",
              "    }\n",
              "\n",
              "    [theme=dark] .colab-df-convert {\n",
              "      background-color: #3B4455;\n",
              "      fill: #D2E3FC;\n",
              "    }\n",
              "\n",
              "    [theme=dark] .colab-df-convert:hover {\n",
              "      background-color: #434B5C;\n",
              "      box-shadow: 0px 1px 3px 1px rgba(0, 0, 0, 0.15);\n",
              "      filter: drop-shadow(0px 1px 2px rgba(0, 0, 0, 0.3));\n",
              "      fill: #FFFFFF;\n",
              "    }\n",
              "  </style>\n",
              "\n",
              "    <script>\n",
              "      const buttonEl =\n",
              "        document.querySelector('#df-81c864f5-beaa-42a9-8081-d3e753b85077 button.colab-df-convert');\n",
              "      buttonEl.style.display =\n",
              "        google.colab.kernel.accessAllowed ? 'block' : 'none';\n",
              "\n",
              "      async function convertToInteractive(key) {\n",
              "        const element = document.querySelector('#df-81c864f5-beaa-42a9-8081-d3e753b85077');\n",
              "        const dataTable =\n",
              "          await google.colab.kernel.invokeFunction('convertToInteractive',\n",
              "                                                    [key], {});\n",
              "        if (!dataTable) return;\n",
              "\n",
              "        const docLinkHtml = 'Like what you see? Visit the ' +\n",
              "          '<a target=\"_blank\" href=https://colab.research.google.com/notebooks/data_table.ipynb>data table notebook</a>'\n",
              "          + ' to learn more about interactive tables.';\n",
              "        element.innerHTML = '';\n",
              "        dataTable['output_type'] = 'display_data';\n",
              "        await google.colab.output.renderOutput(dataTable, element);\n",
              "        const docLink = document.createElement('div');\n",
              "        docLink.innerHTML = docLinkHtml;\n",
              "        element.appendChild(docLink);\n",
              "      }\n",
              "    </script>\n",
              "  </div>\n",
              "\n",
              "\n",
              "<div id=\"df-51384d05-162f-4850-b906-adb8a8330d51\">\n",
              "  <button class=\"colab-df-quickchart\" onclick=\"quickchart('df-51384d05-162f-4850-b906-adb8a8330d51')\"\n",
              "            title=\"Suggest charts\"\n",
              "            style=\"display:none;\">\n",
              "\n",
              "<svg xmlns=\"http://www.w3.org/2000/svg\" height=\"24px\"viewBox=\"0 0 24 24\"\n",
              "     width=\"24px\">\n",
              "    <g>\n",
              "        <path d=\"M19 3H5c-1.1 0-2 .9-2 2v14c0 1.1.9 2 2 2h14c1.1 0 2-.9 2-2V5c0-1.1-.9-2-2-2zM9 17H7v-7h2v7zm4 0h-2V7h2v10zm4 0h-2v-4h2v4z\"/>\n",
              "    </g>\n",
              "</svg>\n",
              "  </button>\n",
              "\n",
              "<style>\n",
              "  .colab-df-quickchart {\n",
              "      --bg-color: #E8F0FE;\n",
              "      --fill-color: #1967D2;\n",
              "      --hover-bg-color: #E2EBFA;\n",
              "      --hover-fill-color: #174EA6;\n",
              "      --disabled-fill-color: #AAA;\n",
              "      --disabled-bg-color: #DDD;\n",
              "  }\n",
              "\n",
              "  [theme=dark] .colab-df-quickchart {\n",
              "      --bg-color: #3B4455;\n",
              "      --fill-color: #D2E3FC;\n",
              "      --hover-bg-color: #434B5C;\n",
              "      --hover-fill-color: #FFFFFF;\n",
              "      --disabled-bg-color: #3B4455;\n",
              "      --disabled-fill-color: #666;\n",
              "  }\n",
              "\n",
              "  .colab-df-quickchart {\n",
              "    background-color: var(--bg-color);\n",
              "    border: none;\n",
              "    border-radius: 50%;\n",
              "    cursor: pointer;\n",
              "    display: none;\n",
              "    fill: var(--fill-color);\n",
              "    height: 32px;\n",
              "    padding: 0;\n",
              "    width: 32px;\n",
              "  }\n",
              "\n",
              "  .colab-df-quickchart:hover {\n",
              "    background-color: var(--hover-bg-color);\n",
              "    box-shadow: 0 1px 2px rgba(60, 64, 67, 0.3), 0 1px 3px 1px rgba(60, 64, 67, 0.15);\n",
              "    fill: var(--button-hover-fill-color);\n",
              "  }\n",
              "\n",
              "  .colab-df-quickchart-complete:disabled,\n",
              "  .colab-df-quickchart-complete:disabled:hover {\n",
              "    background-color: var(--disabled-bg-color);\n",
              "    fill: var(--disabled-fill-color);\n",
              "    box-shadow: none;\n",
              "  }\n",
              "\n",
              "  .colab-df-spinner {\n",
              "    border: 2px solid var(--fill-color);\n",
              "    border-color: transparent;\n",
              "    border-bottom-color: var(--fill-color);\n",
              "    animation:\n",
              "      spin 1s steps(1) infinite;\n",
              "  }\n",
              "\n",
              "  @keyframes spin {\n",
              "    0% {\n",
              "      border-color: transparent;\n",
              "      border-bottom-color: var(--fill-color);\n",
              "      border-left-color: var(--fill-color);\n",
              "    }\n",
              "    20% {\n",
              "      border-color: transparent;\n",
              "      border-left-color: var(--fill-color);\n",
              "      border-top-color: var(--fill-color);\n",
              "    }\n",
              "    30% {\n",
              "      border-color: transparent;\n",
              "      border-left-color: var(--fill-color);\n",
              "      border-top-color: var(--fill-color);\n",
              "      border-right-color: var(--fill-color);\n",
              "    }\n",
              "    40% {\n",
              "      border-color: transparent;\n",
              "      border-right-color: var(--fill-color);\n",
              "      border-top-color: var(--fill-color);\n",
              "    }\n",
              "    60% {\n",
              "      border-color: transparent;\n",
              "      border-right-color: var(--fill-color);\n",
              "    }\n",
              "    80% {\n",
              "      border-color: transparent;\n",
              "      border-right-color: var(--fill-color);\n",
              "      border-bottom-color: var(--fill-color);\n",
              "    }\n",
              "    90% {\n",
              "      border-color: transparent;\n",
              "      border-bottom-color: var(--fill-color);\n",
              "    }\n",
              "  }\n",
              "</style>\n",
              "\n",
              "  <script>\n",
              "    async function quickchart(key) {\n",
              "      const quickchartButtonEl =\n",
              "        document.querySelector('#' + key + ' button');\n",
              "      quickchartButtonEl.disabled = true;  // To prevent multiple clicks.\n",
              "      quickchartButtonEl.classList.add('colab-df-spinner');\n",
              "      try {\n",
              "        const charts = await google.colab.kernel.invokeFunction(\n",
              "            'suggestCharts', [key], {});\n",
              "      } catch (error) {\n",
              "        console.error('Error during call to suggestCharts:', error);\n",
              "      }\n",
              "      quickchartButtonEl.classList.remove('colab-df-spinner');\n",
              "      quickchartButtonEl.classList.add('colab-df-quickchart-complete');\n",
              "    }\n",
              "    (() => {\n",
              "      let quickchartButtonEl =\n",
              "        document.querySelector('#df-51384d05-162f-4850-b906-adb8a8330d51 button');\n",
              "      quickchartButtonEl.style.display =\n",
              "        google.colab.kernel.accessAllowed ? 'block' : 'none';\n",
              "    })();\n",
              "  </script>\n",
              "</div>\n",
              "\n",
              "    </div>\n",
              "  </div>\n"
            ],
            "application/vnd.google.colaboratory.intrinsic+json": {
              "type": "dataframe",
              "summary": "{\n  \"name\": \"data\",\n  \"rows\": 8,\n  \"fields\": [\n    {\n      \"column\": \"sepal_length\",\n      \"properties\": {\n        \"dtype\": \"number\",\n        \"std\": 51.24711349471842,\n        \"min\": 0.828066127977863,\n        \"max\": 150.0,\n        \"num_unique_values\": 8,\n        \"samples\": [\n          5.843333333333334,\n          5.8,\n          150.0\n        ],\n        \"semantic_type\": \"\",\n        \"description\": \"\"\n      }\n    },\n    {\n      \"column\": \"sepal_width\",\n      \"properties\": {\n        \"dtype\": \"number\",\n        \"std\": 52.08647211421483,\n        \"min\": 0.4335943113621737,\n        \"max\": 150.0,\n        \"num_unique_values\": 8,\n        \"samples\": [\n          3.0540000000000003,\n          3.0,\n          150.0\n        ],\n        \"semantic_type\": \"\",\n        \"description\": \"\"\n      }\n    },\n    {\n      \"column\": \"petal_length\",\n      \"properties\": {\n        \"dtype\": \"number\",\n        \"std\": 51.835227940958106,\n        \"min\": 1.0,\n        \"max\": 150.0,\n        \"num_unique_values\": 8,\n        \"samples\": [\n          3.758666666666666,\n          4.35,\n          150.0\n        ],\n        \"semantic_type\": \"\",\n        \"description\": \"\"\n      }\n    },\n    {\n      \"column\": \"petal_width\",\n      \"properties\": {\n        \"dtype\": \"number\",\n        \"std\": 52.636634243409915,\n        \"min\": 0.1,\n        \"max\": 150.0,\n        \"num_unique_values\": 8,\n        \"samples\": [\n          1.1986666666666668,\n          1.3,\n          150.0\n        ],\n        \"semantic_type\": \"\",\n        \"description\": \"\"\n      }\n    }\n  ]\n}"
            }
          },
          "metadata": {},
          "execution_count": 37
        }
      ]
    },
    {
      "cell_type": "code",
      "source": [
        "data.dtypes"
      ],
      "metadata": {
        "colab": {
          "base_uri": "https://localhost:8080/"
        },
        "id": "RikFRAP8cnVM",
        "outputId": "963e98bd-faf8-463f-d7e7-99fa060e5330"
      },
      "execution_count": 39,
      "outputs": [
        {
          "output_type": "execute_result",
          "data": {
            "text/plain": [
              "sepal_length    float64\n",
              "sepal_width     float64\n",
              "petal_length    float64\n",
              "petal_width     float64\n",
              "species          object\n",
              "dtype: object"
            ]
          },
          "metadata": {},
          "execution_count": 39
        }
      ]
    },
    {
      "cell_type": "code",
      "source": [
        "X = data.drop('species', axis=1)\n",
        "y = data['species']"
      ],
      "metadata": {
        "id": "1sWJ8LFiXE04"
      },
      "execution_count": 5,
      "outputs": []
    },
    {
      "cell_type": "code",
      "source": [
        "data[\"species\"].value_counts()"
      ],
      "metadata": {
        "colab": {
          "base_uri": "https://localhost:8080/"
        },
        "id": "DAwJowYoc4ja",
        "outputId": "9609c8ef-7396-4e35-e8f1-28f4842a4ef2"
      },
      "execution_count": 41,
      "outputs": [
        {
          "output_type": "execute_result",
          "data": {
            "text/plain": [
              "species\n",
              "Iris-setosa        50\n",
              "Iris-versicolor    50\n",
              "Iris-virginica     50\n",
              "Name: count, dtype: int64"
            ]
          },
          "metadata": {},
          "execution_count": 41
        }
      ]
    },
    {
      "cell_type": "code",
      "source": [
        "encoder = LabelEncoder()\n",
        "y_encoded = encoder.fit_transform(y)\n",
        "y_categorical = to_categorical(y_encoded)"
      ],
      "metadata": {
        "id": "RAOx7Wrrda4x"
      },
      "execution_count": 55,
      "outputs": []
    },
    {
      "cell_type": "code",
      "source": [
        "X.shape"
      ],
      "metadata": {
        "colab": {
          "base_uri": "https://localhost:8080/"
        },
        "id": "jwneyzTRdfvH",
        "outputId": "4793fc2e-0a67-45d2-a186-eb2ba3320104"
      },
      "execution_count": 56,
      "outputs": [
        {
          "output_type": "execute_result",
          "data": {
            "text/plain": [
              "(150, 4)"
            ]
          },
          "metadata": {},
          "execution_count": 56
        }
      ]
    },
    {
      "cell_type": "code",
      "source": [
        "y.shape"
      ],
      "metadata": {
        "colab": {
          "base_uri": "https://localhost:8080/"
        },
        "id": "rz8WevlIdidW",
        "outputId": "6bf9210a-20df-47a2-aed3-23289d4caece"
      },
      "execution_count": 57,
      "outputs": [
        {
          "output_type": "execute_result",
          "data": {
            "text/plain": [
              "(150,)"
            ]
          },
          "metadata": {},
          "execution_count": 57
        }
      ]
    },
    {
      "cell_type": "code",
      "source": [
        "scaler = StandardScaler()\n",
        "X_scaled = scaler.fit_transform(X)"
      ],
      "metadata": {
        "id": "ppZeW7A_XLDc"
      },
      "execution_count": 58,
      "outputs": []
    },
    {
      "cell_type": "code",
      "source": [
        "X_train, X_test, y_train, y_test = train_test_split(X_scaled,  y_categorical, test_size=0.3, random_state=42)\n"
      ],
      "metadata": {
        "id": "-m6t-DDVXNGz"
      },
      "execution_count": 65,
      "outputs": []
    },
    {
      "cell_type": "code",
      "source": [
        "def evaluate_model(model, X_test, y_test, model_name):\n",
        "    y_pred = model.predict(X_test)\n",
        "    if model_name in [\"CNN\", \"MLP\", \"RNN\", \"LSTM\", \"BiLSTM\"]:\n",
        "        y_pred_labels = encoder.inverse_transform(y_pred.argmax(axis=1))\n",
        "        y_test_labels = encoder.inverse_transform(y_test.argmax(axis=1))\n",
        "    else:\n",
        "        y_pred_labels = encoder.inverse_transform(y_pred)\n",
        "        y_test_labels = encoder.inverse_transform(y_test.argmax(axis=1))\n",
        "    print(f\"{model_name} Classification Report:\")\n",
        "    print(classification_report(y_test_labels, y_pred_labels))\n",
        "    accuracy = accuracy_score(y_test_labels, y_pred_labels)\n",
        "    f1 = f1_score(y_test_labels, y_pred_labels, average='weighted')\n",
        "    # Plot confusion matrix\n",
        "    conf_matrix = confusion_matrix(y_test_labels, y_pred_labels)\n",
        "    plt.figure(figsize=(10, 7))\n",
        "    sns.heatmap(conf_matrix, annot=True, fmt='d', cmap='Blues', xticklabels=encoder.classes_, yticklabels=encoder.classes_)\n",
        "    plt.title(f\"{model_name} Confusion Matrix\")\n",
        "    plt.xlabel(\"Predicted Labels\")\n",
        "    plt.ylabel(\"True Labels\")\n",
        "    plt.show()\n",
        "    return accuracy, f1"
      ],
      "metadata": {
        "id": "tF7zu4-_XN3m"
      },
      "execution_count": 66,
      "outputs": []
    },
    {
      "cell_type": "code",
      "source": [
        "cnn_model = Sequential()\n",
        "cnn_model.add(Conv1D(32, kernel_size=2, activation='relu', input_shape=(X_train.shape[1], 1)))\n",
        "cnn_model.add(Flatten())\n",
        "cnn_model.add(Dense(3, activation='softmax'))\n",
        "\n",
        "cnn_model.compile(optimizer='adam', loss='categorical_crossentropy', metrics=['accuracy'])\n",
        "cnn_model.fit(X_train.reshape(-1, X_train.shape[1], 1), y_train, epochs=50, batch_size=10, validation_data=(X_test.reshape(-1, X_test.shape[1], 1), y_test))"
      ],
      "metadata": {
        "colab": {
          "base_uri": "https://localhost:8080/"
        },
        "id": "ttpr3Do_XUxJ",
        "outputId": "58dc5a31-b69b-4453-f55a-e604a77ebdfa"
      },
      "execution_count": 67,
      "outputs": [
        {
          "output_type": "stream",
          "name": "stdout",
          "text": [
            "Epoch 1/50\n",
            "11/11 [==============================] - 1s 25ms/step - loss: 1.0622 - accuracy: 0.4667 - val_loss: 0.9307 - val_accuracy: 0.6222\n",
            "Epoch 2/50\n",
            "11/11 [==============================] - 0s 7ms/step - loss: 0.9557 - accuracy: 0.4571 - val_loss: 0.8329 - val_accuracy: 0.5333\n",
            "Epoch 3/50\n",
            "11/11 [==============================] - 0s 6ms/step - loss: 0.8677 - accuracy: 0.5048 - val_loss: 0.7500 - val_accuracy: 0.7333\n",
            "Epoch 4/50\n",
            "11/11 [==============================] - 0s 7ms/step - loss: 0.7890 - accuracy: 0.7048 - val_loss: 0.6824 - val_accuracy: 0.7778\n",
            "Epoch 5/50\n",
            "11/11 [==============================] - 0s 8ms/step - loss: 0.7210 - accuracy: 0.7810 - val_loss: 0.6270 - val_accuracy: 0.7778\n",
            "Epoch 6/50\n",
            "11/11 [==============================] - 0s 7ms/step - loss: 0.6652 - accuracy: 0.7905 - val_loss: 0.5797 - val_accuracy: 0.8000\n",
            "Epoch 7/50\n",
            "11/11 [==============================] - 0s 6ms/step - loss: 0.6160 - accuracy: 0.8000 - val_loss: 0.5410 - val_accuracy: 0.8222\n",
            "Epoch 8/50\n",
            "11/11 [==============================] - 0s 8ms/step - loss: 0.5716 - accuracy: 0.8190 - val_loss: 0.5088 - val_accuracy: 0.8000\n",
            "Epoch 9/50\n",
            "11/11 [==============================] - 0s 7ms/step - loss: 0.5372 - accuracy: 0.8286 - val_loss: 0.4820 - val_accuracy: 0.8000\n",
            "Epoch 10/50\n",
            "11/11 [==============================] - 0s 7ms/step - loss: 0.5038 - accuracy: 0.8286 - val_loss: 0.4592 - val_accuracy: 0.8000\n",
            "Epoch 11/50\n",
            "11/11 [==============================] - 0s 6ms/step - loss: 0.4781 - accuracy: 0.8286 - val_loss: 0.4405 - val_accuracy: 0.8000\n",
            "Epoch 12/50\n",
            "11/11 [==============================] - 0s 7ms/step - loss: 0.4546 - accuracy: 0.8381 - val_loss: 0.4239 - val_accuracy: 0.8222\n",
            "Epoch 13/50\n",
            "11/11 [==============================] - 0s 7ms/step - loss: 0.4359 - accuracy: 0.8381 - val_loss: 0.4089 - val_accuracy: 0.8222\n",
            "Epoch 14/50\n",
            "11/11 [==============================] - 0s 7ms/step - loss: 0.4176 - accuracy: 0.8476 - val_loss: 0.3963 - val_accuracy: 0.8222\n",
            "Epoch 15/50\n",
            "11/11 [==============================] - 0s 7ms/step - loss: 0.4037 - accuracy: 0.8381 - val_loss: 0.3847 - val_accuracy: 0.8444\n",
            "Epoch 16/50\n",
            "11/11 [==============================] - 0s 7ms/step - loss: 0.3892 - accuracy: 0.8476 - val_loss: 0.3750 - val_accuracy: 0.8222\n",
            "Epoch 17/50\n",
            "11/11 [==============================] - 0s 6ms/step - loss: 0.3774 - accuracy: 0.8571 - val_loss: 0.3658 - val_accuracy: 0.8444\n",
            "Epoch 18/50\n",
            "11/11 [==============================] - 0s 9ms/step - loss: 0.3668 - accuracy: 0.8667 - val_loss: 0.3567 - val_accuracy: 0.8444\n",
            "Epoch 19/50\n",
            "11/11 [==============================] - 0s 7ms/step - loss: 0.3566 - accuracy: 0.8667 - val_loss: 0.3486 - val_accuracy: 0.8444\n",
            "Epoch 20/50\n",
            "11/11 [==============================] - 0s 8ms/step - loss: 0.3474 - accuracy: 0.8667 - val_loss: 0.3394 - val_accuracy: 0.8444\n",
            "Epoch 21/50\n",
            "11/11 [==============================] - 0s 8ms/step - loss: 0.3398 - accuracy: 0.8857 - val_loss: 0.3296 - val_accuracy: 0.8444\n",
            "Epoch 22/50\n",
            "11/11 [==============================] - 0s 7ms/step - loss: 0.3302 - accuracy: 0.8952 - val_loss: 0.3222 - val_accuracy: 0.8444\n",
            "Epoch 23/50\n",
            "11/11 [==============================] - 0s 7ms/step - loss: 0.3221 - accuracy: 0.8952 - val_loss: 0.3147 - val_accuracy: 0.8444\n",
            "Epoch 24/50\n",
            "11/11 [==============================] - 0s 7ms/step - loss: 0.3158 - accuracy: 0.8857 - val_loss: 0.3089 - val_accuracy: 0.8444\n",
            "Epoch 25/50\n",
            "11/11 [==============================] - 0s 7ms/step - loss: 0.3078 - accuracy: 0.8952 - val_loss: 0.3001 - val_accuracy: 0.8444\n",
            "Epoch 26/50\n",
            "11/11 [==============================] - 0s 7ms/step - loss: 0.3005 - accuracy: 0.8952 - val_loss: 0.2910 - val_accuracy: 0.8667\n",
            "Epoch 27/50\n",
            "11/11 [==============================] - 0s 7ms/step - loss: 0.2941 - accuracy: 0.9143 - val_loss: 0.2804 - val_accuracy: 0.8667\n",
            "Epoch 28/50\n",
            "11/11 [==============================] - 0s 8ms/step - loss: 0.2863 - accuracy: 0.9238 - val_loss: 0.2727 - val_accuracy: 0.8667\n",
            "Epoch 29/50\n",
            "11/11 [==============================] - 0s 7ms/step - loss: 0.2805 - accuracy: 0.9238 - val_loss: 0.2668 - val_accuracy: 0.8889\n",
            "Epoch 30/50\n",
            "11/11 [==============================] - 0s 7ms/step - loss: 0.2737 - accuracy: 0.9238 - val_loss: 0.2589 - val_accuracy: 0.8889\n",
            "Epoch 31/50\n",
            "11/11 [==============================] - 0s 8ms/step - loss: 0.2676 - accuracy: 0.9238 - val_loss: 0.2499 - val_accuracy: 0.8889\n",
            "Epoch 32/50\n",
            "11/11 [==============================] - 0s 7ms/step - loss: 0.2619 - accuracy: 0.9238 - val_loss: 0.2448 - val_accuracy: 0.8889\n",
            "Epoch 33/50\n",
            "11/11 [==============================] - 0s 8ms/step - loss: 0.2552 - accuracy: 0.9333 - val_loss: 0.2352 - val_accuracy: 0.9111\n",
            "Epoch 34/50\n",
            "11/11 [==============================] - 0s 7ms/step - loss: 0.2487 - accuracy: 0.9238 - val_loss: 0.2289 - val_accuracy: 0.9111\n",
            "Epoch 35/50\n",
            "11/11 [==============================] - 0s 6ms/step - loss: 0.2430 - accuracy: 0.9238 - val_loss: 0.2209 - val_accuracy: 0.9111\n",
            "Epoch 36/50\n",
            "11/11 [==============================] - 0s 7ms/step - loss: 0.2381 - accuracy: 0.9333 - val_loss: 0.2128 - val_accuracy: 0.9111\n",
            "Epoch 37/50\n",
            "11/11 [==============================] - 0s 7ms/step - loss: 0.2311 - accuracy: 0.9429 - val_loss: 0.2077 - val_accuracy: 0.9111\n",
            "Epoch 38/50\n",
            "11/11 [==============================] - 0s 7ms/step - loss: 0.2266 - accuracy: 0.9333 - val_loss: 0.2037 - val_accuracy: 0.9111\n",
            "Epoch 39/50\n",
            "11/11 [==============================] - 0s 8ms/step - loss: 0.2211 - accuracy: 0.9333 - val_loss: 0.1952 - val_accuracy: 0.9333\n",
            "Epoch 40/50\n",
            "11/11 [==============================] - 0s 6ms/step - loss: 0.2147 - accuracy: 0.9333 - val_loss: 0.1886 - val_accuracy: 0.9333\n",
            "Epoch 41/50\n",
            "11/11 [==============================] - 0s 11ms/step - loss: 0.2103 - accuracy: 0.9429 - val_loss: 0.1803 - val_accuracy: 0.9333\n",
            "Epoch 42/50\n",
            "11/11 [==============================] - 0s 11ms/step - loss: 0.2055 - accuracy: 0.9429 - val_loss: 0.1751 - val_accuracy: 0.9556\n",
            "Epoch 43/50\n",
            "11/11 [==============================] - 0s 14ms/step - loss: 0.1998 - accuracy: 0.9429 - val_loss: 0.1692 - val_accuracy: 0.9778\n",
            "Epoch 44/50\n",
            "11/11 [==============================] - 0s 9ms/step - loss: 0.1964 - accuracy: 0.9429 - val_loss: 0.1646 - val_accuracy: 0.9778\n",
            "Epoch 45/50\n",
            "11/11 [==============================] - 0s 9ms/step - loss: 0.1910 - accuracy: 0.9429 - val_loss: 0.1584 - val_accuracy: 0.9778\n",
            "Epoch 46/50\n",
            "11/11 [==============================] - 0s 9ms/step - loss: 0.1859 - accuracy: 0.9429 - val_loss: 0.1541 - val_accuracy: 0.9778\n",
            "Epoch 47/50\n",
            "11/11 [==============================] - 0s 10ms/step - loss: 0.1823 - accuracy: 0.9429 - val_loss: 0.1508 - val_accuracy: 0.9778\n",
            "Epoch 48/50\n",
            "11/11 [==============================] - 0s 10ms/step - loss: 0.1784 - accuracy: 0.9429 - val_loss: 0.1445 - val_accuracy: 1.0000\n",
            "Epoch 49/50\n",
            "11/11 [==============================] - 0s 10ms/step - loss: 0.1757 - accuracy: 0.9429 - val_loss: 0.1376 - val_accuracy: 1.0000\n",
            "Epoch 50/50\n",
            "11/11 [==============================] - 0s 10ms/step - loss: 0.1702 - accuracy: 0.9524 - val_loss: 0.1364 - val_accuracy: 1.0000\n"
          ]
        },
        {
          "output_type": "execute_result",
          "data": {
            "text/plain": [
              "<keras.src.callbacks.History at 0x7d13489eec20>"
            ]
          },
          "metadata": {},
          "execution_count": 67
        }
      ]
    },
    {
      "cell_type": "code",
      "source": [
        "cnn_accuracy, cnn_f1 = evaluate_model(cnn_model, X_test.reshape(-1, X_test.shape[1], 1), y_test, \"CNN\")\n"
      ],
      "metadata": {
        "colab": {
          "base_uri": "https://localhost:8080/",
          "height": 897
        },
        "id": "mtU09Yq6Xd1a",
        "outputId": "8bcfd26e-a26d-410e-f869-a8e5489fea70"
      },
      "execution_count": 68,
      "outputs": [
        {
          "output_type": "stream",
          "name": "stderr",
          "text": [
            "WARNING:tensorflow:6 out of the last 11 calls to <function Model.make_predict_function.<locals>.predict_function at 0x7d1348a029e0> triggered tf.function retracing. Tracing is expensive and the excessive number of tracings could be due to (1) creating @tf.function repeatedly in a loop, (2) passing tensors with different shapes, (3) passing Python objects instead of tensors. For (1), please define your @tf.function outside of the loop. For (2), @tf.function has reduce_retracing=True option that can avoid unnecessary retracing. For (3), please refer to https://www.tensorflow.org/guide/function#controlling_retracing and https://www.tensorflow.org/api_docs/python/tf/function for  more details.\n"
          ]
        },
        {
          "output_type": "stream",
          "name": "stdout",
          "text": [
            "2/2 [==============================] - 0s 7ms/step\n",
            "CNN Classification Report:\n",
            "                 precision    recall  f1-score   support\n",
            "\n",
            "    Iris-setosa       1.00      1.00      1.00        19\n",
            "Iris-versicolor       1.00      1.00      1.00        13\n",
            " Iris-virginica       1.00      1.00      1.00        13\n",
            "\n",
            "       accuracy                           1.00        45\n",
            "      macro avg       1.00      1.00      1.00        45\n",
            "   weighted avg       1.00      1.00      1.00        45\n",
            "\n"
          ]
        },
        {
          "output_type": "display_data",
          "data": {
            "text/plain": [
              "<Figure size 1000x700 with 2 Axes>"
            ],
            "image/png": "[encoded data removed]"
          },
          "metadata": {}
        }
      ]
    },
    {
      "cell_type": "code",
      "source": [
        "mlp_model = Sequential()\n",
        "mlp_model.add(Dense(64, activation='relu', input_shape=(X_train.shape[1],)))\n",
        "mlp_model.add(Dense(64, activation='relu'))\n",
        "mlp_model.add(Dense(3, activation='softmax'))\n",
        "\n",
        "mlp_model.compile(optimizer='adam', loss='categorical_crossentropy', metrics=['accuracy'])\n",
        "mlp_model.fit(X_train, y_train, epochs=50, batch_size=10, validation_data=(X_test, y_test))\n"
      ],
      "metadata": {
        "colab": {
          "base_uri": "https://localhost:8080/"
        },
        "id": "HoTEpWyVXgGu",
        "outputId": "c5851ff1-326e-41c1-be5b-a41e9242f5d8"
      },
      "execution_count": 69,
      "outputs": [
        {
          "output_type": "stream",
          "name": "stdout",
          "text": [
            "Epoch 1/50\n",
            "11/11 [==============================] - 1s 29ms/step - loss: 0.9416 - accuracy: 0.7143 - val_loss: 0.8459 - val_accuracy: 0.8222\n",
            "Epoch 2/50\n",
            "11/11 [==============================] - 0s 8ms/step - loss: 0.7582 - accuracy: 0.8286 - val_loss: 0.6715 - val_accuracy: 0.8222\n",
            "Epoch 3/50\n",
            "11/11 [==============================] - 0s 8ms/step - loss: 0.6122 - accuracy: 0.8381 - val_loss: 0.5335 - val_accuracy: 0.8222\n",
            "Epoch 4/50\n",
            "11/11 [==============================] - 0s 10ms/step - loss: 0.5046 - accuracy: 0.8381 - val_loss: 0.4419 - val_accuracy: 0.8222\n",
            "Epoch 5/50\n",
            "11/11 [==============================] - 0s 7ms/step - loss: 0.4274 - accuracy: 0.8381 - val_loss: 0.3835 - val_accuracy: 0.8444\n",
            "Epoch 6/50\n",
            "11/11 [==============================] - 0s 7ms/step - loss: 0.3773 - accuracy: 0.8381 - val_loss: 0.3453 - val_accuracy: 0.8444\n",
            "Epoch 7/50\n",
            "11/11 [==============================] - 0s 7ms/step - loss: 0.3418 - accuracy: 0.8476 - val_loss: 0.3196 - val_accuracy: 0.8444\n",
            "Epoch 8/50\n",
            "11/11 [==============================] - 0s 7ms/step - loss: 0.3169 - accuracy: 0.8476 - val_loss: 0.2967 - val_accuracy: 0.8444\n",
            "Epoch 9/50\n",
            "11/11 [==============================] - 0s 8ms/step - loss: 0.2974 - accuracy: 0.8571 - val_loss: 0.2815 - val_accuracy: 0.8444\n",
            "Epoch 10/50\n",
            "11/11 [==============================] - 0s 7ms/step - loss: 0.2802 - accuracy: 0.8667 - val_loss: 0.2598 - val_accuracy: 0.8667\n",
            "Epoch 11/50\n",
            "11/11 [==============================] - 0s 6ms/step - loss: 0.2649 - accuracy: 0.8952 - val_loss: 0.2415 - val_accuracy: 0.9111\n",
            "Epoch 12/50\n",
            "11/11 [==============================] - 0s 6ms/step - loss: 0.2485 - accuracy: 0.8952 - val_loss: 0.2303 - val_accuracy: 0.8889\n",
            "Epoch 13/50\n",
            "11/11 [==============================] - 0s 6ms/step - loss: 0.2365 - accuracy: 0.8857 - val_loss: 0.2232 - val_accuracy: 0.8889\n",
            "Epoch 14/50\n",
            "11/11 [==============================] - 0s 7ms/step - loss: 0.2276 - accuracy: 0.8857 - val_loss: 0.2098 - val_accuracy: 0.8889\n",
            "Epoch 15/50\n",
            "11/11 [==============================] - 0s 7ms/step - loss: 0.2149 - accuracy: 0.9143 - val_loss: 0.1842 - val_accuracy: 0.9333\n",
            "Epoch 16/50\n",
            "11/11 [==============================] - 0s 12ms/step - loss: 0.2036 - accuracy: 0.9333 - val_loss: 0.1744 - val_accuracy: 0.9333\n",
            "Epoch 17/50\n",
            "11/11 [==============================] - 0s 10ms/step - loss: 0.1896 - accuracy: 0.9333 - val_loss: 0.1689 - val_accuracy: 0.9111\n",
            "Epoch 18/50\n",
            "11/11 [==============================] - 0s 7ms/step - loss: 0.1836 - accuracy: 0.9333 - val_loss: 0.1559 - val_accuracy: 0.9333\n",
            "Epoch 19/50\n",
            "11/11 [==============================] - 0s 6ms/step - loss: 0.1718 - accuracy: 0.9524 - val_loss: 0.1410 - val_accuracy: 0.9556\n",
            "Epoch 20/50\n",
            "11/11 [==============================] - 0s 7ms/step - loss: 0.1643 - accuracy: 0.9429 - val_loss: 0.1289 - val_accuracy: 0.9556\n",
            "Epoch 21/50\n",
            "11/11 [==============================] - 0s 7ms/step - loss: 0.1583 - accuracy: 0.9619 - val_loss: 0.1214 - val_accuracy: 0.9556\n",
            "Epoch 22/50\n",
            "11/11 [==============================] - 0s 7ms/step - loss: 0.1534 - accuracy: 0.9333 - val_loss: 0.1068 - val_accuracy: 0.9778\n",
            "Epoch 23/50\n",
            "11/11 [==============================] - 0s 7ms/step - loss: 0.1434 - accuracy: 0.9524 - val_loss: 0.1052 - val_accuracy: 0.9778\n",
            "Epoch 24/50\n",
            "11/11 [==============================] - 0s 8ms/step - loss: 0.1371 - accuracy: 0.9619 - val_loss: 0.0965 - val_accuracy: 0.9778\n",
            "Epoch 25/50\n",
            "11/11 [==============================] - 0s 7ms/step - loss: 0.1359 - accuracy: 0.9619 - val_loss: 0.0973 - val_accuracy: 0.9778\n",
            "Epoch 26/50\n",
            "11/11 [==============================] - 0s 8ms/step - loss: 0.1273 - accuracy: 0.9619 - val_loss: 0.0790 - val_accuracy: 1.0000\n",
            "Epoch 27/50\n",
            "11/11 [==============================] - 0s 10ms/step - loss: 0.1177 - accuracy: 0.9619 - val_loss: 0.0783 - val_accuracy: 1.0000\n",
            "Epoch 28/50\n",
            "11/11 [==============================] - 0s 8ms/step - loss: 0.1155 - accuracy: 0.9619 - val_loss: 0.0723 - val_accuracy: 1.0000\n",
            "Epoch 29/50\n",
            "11/11 [==============================] - 0s 7ms/step - loss: 0.1094 - accuracy: 0.9524 - val_loss: 0.0649 - val_accuracy: 1.0000\n",
            "Epoch 30/50\n",
            "11/11 [==============================] - 0s 7ms/step - loss: 0.1058 - accuracy: 0.9619 - val_loss: 0.0670 - val_accuracy: 1.0000\n",
            "Epoch 31/50\n",
            "11/11 [==============================] - 0s 7ms/step - loss: 0.1032 - accuracy: 0.9714 - val_loss: 0.0584 - val_accuracy: 1.0000\n",
            "Epoch 32/50\n",
            "11/11 [==============================] - 0s 8ms/step - loss: 0.0974 - accuracy: 0.9714 - val_loss: 0.0545 - val_accuracy: 1.0000\n",
            "Epoch 33/50\n",
            "11/11 [==============================] - 0s 7ms/step - loss: 0.0929 - accuracy: 0.9619 - val_loss: 0.0493 - val_accuracy: 1.0000\n",
            "Epoch 34/50\n",
            "11/11 [==============================] - 0s 6ms/step - loss: 0.0898 - accuracy: 0.9619 - val_loss: 0.0466 - val_accuracy: 1.0000\n",
            "Epoch 35/50\n",
            "11/11 [==============================] - 0s 6ms/step - loss: 0.0872 - accuracy: 0.9619 - val_loss: 0.0443 - val_accuracy: 1.0000\n",
            "Epoch 36/50\n",
            "11/11 [==============================] - 0s 7ms/step - loss: 0.0861 - accuracy: 0.9619 - val_loss: 0.0426 - val_accuracy: 1.0000\n",
            "Epoch 37/50\n",
            "11/11 [==============================] - 0s 9ms/step - loss: 0.0833 - accuracy: 0.9714 - val_loss: 0.0409 - val_accuracy: 1.0000\n",
            "Epoch 38/50\n",
            "11/11 [==============================] - 0s 16ms/step - loss: 0.0803 - accuracy: 0.9714 - val_loss: 0.0393 - val_accuracy: 1.0000\n",
            "Epoch 39/50\n",
            "11/11 [==============================] - 0s 18ms/step - loss: 0.0796 - accuracy: 0.9714 - val_loss: 0.0361 - val_accuracy: 1.0000\n",
            "Epoch 40/50\n",
            "11/11 [==============================] - 0s 14ms/step - loss: 0.0769 - accuracy: 0.9714 - val_loss: 0.0380 - val_accuracy: 1.0000\n",
            "Epoch 41/50\n",
            "11/11 [==============================] - 0s 13ms/step - loss: 0.0779 - accuracy: 0.9619 - val_loss: 0.0342 - val_accuracy: 1.0000\n",
            "Epoch 42/50\n",
            "11/11 [==============================] - 0s 11ms/step - loss: 0.0739 - accuracy: 0.9714 - val_loss: 0.0319 - val_accuracy: 1.0000\n",
            "Epoch 43/50\n",
            "11/11 [==============================] - 0s 15ms/step - loss: 0.0726 - accuracy: 0.9714 - val_loss: 0.0337 - val_accuracy: 1.0000\n",
            "Epoch 44/50\n",
            "11/11 [==============================] - 0s 17ms/step - loss: 0.0731 - accuracy: 0.9714 - val_loss: 0.0301 - val_accuracy: 1.0000\n",
            "Epoch 45/50\n",
            "11/11 [==============================] - 0s 16ms/step - loss: 0.0689 - accuracy: 0.9810 - val_loss: 0.0303 - val_accuracy: 1.0000\n",
            "Epoch 46/50\n",
            "11/11 [==============================] - 0s 10ms/step - loss: 0.0657 - accuracy: 0.9714 - val_loss: 0.0274 - val_accuracy: 1.0000\n",
            "Epoch 47/50\n",
            "11/11 [==============================] - 0s 11ms/step - loss: 0.0652 - accuracy: 0.9714 - val_loss: 0.0273 - val_accuracy: 1.0000\n",
            "Epoch 48/50\n",
            "11/11 [==============================] - 0s 20ms/step - loss: 0.0651 - accuracy: 0.9714 - val_loss: 0.0258 - val_accuracy: 1.0000\n",
            "Epoch 49/50\n",
            "11/11 [==============================] - 0s 17ms/step - loss: 0.0658 - accuracy: 0.9714 - val_loss: 0.0269 - val_accuracy: 1.0000\n",
            "Epoch 50/50\n",
            "11/11 [==============================] - 0s 34ms/step - loss: 0.0623 - accuracy: 0.9810 - val_loss: 0.0263 - val_accuracy: 1.0000\n"
          ]
        },
        {
          "output_type": "execute_result",
          "data": {
            "text/plain": [
              "<keras.src.callbacks.History at 0x7d13487ad000>"
            ]
          },
          "metadata": {},
          "execution_count": 69
        }
      ]
    },
    {
      "cell_type": "code",
      "source": [
        "mlp_accuracy, mlp_f1 = evaluate_model(mlp_model, X_test, y_test, \"MLP\")"
      ],
      "metadata": {
        "colab": {
          "base_uri": "https://localhost:8080/",
          "height": 859
        },
        "id": "ld3NEI6bXpmo",
        "outputId": "5917c672-e2c8-44f2-adb3-cba2da207f00"
      },
      "execution_count": 70,
      "outputs": [
        {
          "output_type": "stream",
          "name": "stdout",
          "text": [
            "2/2 [==============================] - 0s 16ms/step\n",
            "MLP Classification Report:\n",
            "                 precision    recall  f1-score   support\n",
            "\n",
            "    Iris-setosa       1.00      1.00      1.00        19\n",
            "Iris-versicolor       1.00      1.00      1.00        13\n",
            " Iris-virginica       1.00      1.00      1.00        13\n",
            "\n",
            "       accuracy                           1.00        45\n",
            "      macro avg       1.00      1.00      1.00        45\n",
            "   weighted avg       1.00      1.00      1.00        45\n",
            "\n"
          ]
        },
        {
          "output_type": "display_data",
          "data": {
            "text/plain": [
              "<Figure size 1000x700 with 2 Axes>"
            ],
            "image/png": "[encoded data removed]"
          },
          "metadata": {}
        }
      ]
    },
    {
      "cell_type": "code",
      "source": [
        "rnn_model = Sequential()\n",
        "rnn_model.add(SimpleRNN(32, activation='relu', input_shape=(X_train.shape[1], 1)))\n",
        "rnn_model.add(Dense(3, activation='softmax'))\n",
        "\n",
        "rnn_model.compile(optimizer='adam', loss='categorical_crossentropy', metrics=['accuracy'])\n",
        "rnn_model.fit(X_train.reshape(-1, X_train.shape[1], 1), y_train, epochs=50, batch_size=10, validation_data=(X_test.reshape(-1, X_test.shape[1], 1), y_test))\n",
        "\n",
        "# Evaluate RNN Model\n",
        "rnn_accuracy, rnn_f1 = evaluate_model(rnn_model, X_test.reshape(-1, X_test.shape[1], 1), y_test, \"RNN\")\n",
        "\n",
        "# Train LSTM Model"
      ],
      "metadata": {
        "colab": {
          "base_uri": "https://localhost:8080/",
          "height": 1000
        },
        "id": "2zavi1VfXsXg",
        "outputId": "14b897bc-bba9-4f2c-f7cb-223cac9c9a10"
      },
      "execution_count": 14,
      "outputs": [
        {
          "output_type": "stream",
          "name": "stdout",
          "text": [
            "Epoch 1/50\n",
            "11/11 [==============================] - 4s 64ms/step - loss: 1.0965 - accuracy: 0.4000 - val_loss: 1.0000 - val_accuracy: 0.7111\n",
            "Epoch 2/50\n",
            "11/11 [==============================] - 0s 11ms/step - loss: 0.9836 - accuracy: 0.6095 - val_loss: 0.8744 - val_accuracy: 0.7111\n",
            "Epoch 3/50\n",
            "11/11 [==============================] - 0s 12ms/step - loss: 0.8795 - accuracy: 0.6571 - val_loss: 0.7571 - val_accuracy: 0.7333\n",
            "Epoch 4/50\n",
            "11/11 [==============================] - 0s 15ms/step - loss: 0.7732 - accuracy: 0.7905 - val_loss: 0.6504 - val_accuracy: 0.7778\n",
            "Epoch 5/50\n",
            "11/11 [==============================] - 0s 16ms/step - loss: 0.6723 - accuracy: 0.8571 - val_loss: 0.5573 - val_accuracy: 0.8667\n",
            "Epoch 6/50\n",
            "11/11 [==============================] - 0s 13ms/step - loss: 0.5823 - accuracy: 0.8476 - val_loss: 0.4716 - val_accuracy: 0.8444\n",
            "Epoch 7/50\n",
            "11/11 [==============================] - 0s 12ms/step - loss: 0.5063 - accuracy: 0.8667 - val_loss: 0.4090 - val_accuracy: 0.8667\n",
            "Epoch 8/50\n",
            "11/11 [==============================] - 0s 12ms/step - loss: 0.4409 - accuracy: 0.8667 - val_loss: 0.3635 - val_accuracy: 0.8444\n",
            "Epoch 9/50\n",
            "11/11 [==============================] - 0s 9ms/step - loss: 0.3965 - accuracy: 0.8762 - val_loss: 0.3323 - val_accuracy: 0.8444\n",
            "Epoch 10/50\n",
            "11/11 [==============================] - 0s 8ms/step - loss: 0.3641 - accuracy: 0.8857 - val_loss: 0.3098 - val_accuracy: 0.8667\n",
            "Epoch 11/50\n",
            "11/11 [==============================] - 0s 8ms/step - loss: 0.3395 - accuracy: 0.8571 - val_loss: 0.2972 - val_accuracy: 0.8444\n",
            "Epoch 12/50\n",
            "11/11 [==============================] - 0s 8ms/step - loss: 0.3222 - accuracy: 0.8667 - val_loss: 0.2835 - val_accuracy: 0.8444\n",
            "Epoch 13/50\n",
            "11/11 [==============================] - 0s 8ms/step - loss: 0.3167 - accuracy: 0.8667 - val_loss: 0.2648 - val_accuracy: 0.9111\n",
            "Epoch 14/50\n",
            "11/11 [==============================] - 0s 12ms/step - loss: 0.2935 - accuracy: 0.8762 - val_loss: 0.2623 - val_accuracy: 0.8444\n",
            "Epoch 15/50\n",
            "11/11 [==============================] - 0s 12ms/step - loss: 0.2835 - accuracy: 0.8762 - val_loss: 0.2566 - val_accuracy: 0.8444\n",
            "Epoch 16/50\n",
            "11/11 [==============================] - 0s 8ms/step - loss: 0.2791 - accuracy: 0.8762 - val_loss: 0.2485 - val_accuracy: 0.8444\n",
            "Epoch 17/50\n",
            "11/11 [==============================] - 0s 8ms/step - loss: 0.2738 - accuracy: 0.8952 - val_loss: 0.2283 - val_accuracy: 0.9111\n",
            "Epoch 18/50\n",
            "11/11 [==============================] - 0s 8ms/step - loss: 0.2579 - accuracy: 0.9238 - val_loss: 0.2278 - val_accuracy: 0.9111\n",
            "Epoch 19/50\n",
            "11/11 [==============================] - 0s 7ms/step - loss: 0.2482 - accuracy: 0.9048 - val_loss: 0.2237 - val_accuracy: 0.8889\n",
            "Epoch 20/50\n",
            "11/11 [==============================] - 0s 8ms/step - loss: 0.2433 - accuracy: 0.8952 - val_loss: 0.2112 - val_accuracy: 0.9111\n",
            "Epoch 21/50\n",
            "11/11 [==============================] - 0s 8ms/step - loss: 0.2361 - accuracy: 0.9429 - val_loss: 0.1980 - val_accuracy: 0.9556\n",
            "Epoch 22/50\n",
            "11/11 [==============================] - 0s 9ms/step - loss: 0.2269 - accuracy: 0.9429 - val_loss: 0.1931 - val_accuracy: 0.9556\n",
            "Epoch 23/50\n",
            "11/11 [==============================] - 0s 9ms/step - loss: 0.2186 - accuracy: 0.9238 - val_loss: 0.1954 - val_accuracy: 0.9333\n",
            "Epoch 24/50\n",
            "11/11 [==============================] - 0s 10ms/step - loss: 0.2163 - accuracy: 0.9524 - val_loss: 0.1746 - val_accuracy: 0.9778\n",
            "Epoch 25/50\n",
            "11/11 [==============================] - 0s 9ms/step - loss: 0.2075 - accuracy: 0.9524 - val_loss: 0.1823 - val_accuracy: 0.9556\n",
            "Epoch 26/50\n",
            "11/11 [==============================] - 0s 8ms/step - loss: 0.1971 - accuracy: 0.9429 - val_loss: 0.1682 - val_accuracy: 0.9778\n",
            "Epoch 27/50\n",
            "11/11 [==============================] - 0s 7ms/step - loss: 0.1916 - accuracy: 0.9524 - val_loss: 0.1596 - val_accuracy: 0.9778\n",
            "Epoch 28/50\n",
            "11/11 [==============================] - 0s 7ms/step - loss: 0.1841 - accuracy: 0.9524 - val_loss: 0.1586 - val_accuracy: 0.9778\n",
            "Epoch 29/50\n",
            "11/11 [==============================] - 0s 8ms/step - loss: 0.1788 - accuracy: 0.9524 - val_loss: 0.1465 - val_accuracy: 0.9778\n",
            "Epoch 30/50\n",
            "11/11 [==============================] - 0s 7ms/step - loss: 0.1718 - accuracy: 0.9524 - val_loss: 0.1477 - val_accuracy: 0.9778\n",
            "Epoch 31/50\n",
            "11/11 [==============================] - 0s 7ms/step - loss: 0.1671 - accuracy: 0.9524 - val_loss: 0.1418 - val_accuracy: 0.9778\n",
            "Epoch 32/50\n",
            "11/11 [==============================] - 0s 8ms/step - loss: 0.1604 - accuracy: 0.9524 - val_loss: 0.1319 - val_accuracy: 0.9778\n",
            "Epoch 33/50\n",
            "11/11 [==============================] - 0s 9ms/step - loss: 0.1551 - accuracy: 0.9619 - val_loss: 0.1280 - val_accuracy: 0.9778\n",
            "Epoch 34/50\n",
            "11/11 [==============================] - 0s 11ms/step - loss: 0.1508 - accuracy: 0.9714 - val_loss: 0.1277 - val_accuracy: 0.9778\n",
            "Epoch 35/50\n",
            "11/11 [==============================] - 0s 10ms/step - loss: 0.1449 - accuracy: 0.9619 - val_loss: 0.1213 - val_accuracy: 0.9778\n",
            "Epoch 36/50\n",
            "11/11 [==============================] - 0s 9ms/step - loss: 0.1417 - accuracy: 0.9619 - val_loss: 0.1118 - val_accuracy: 0.9778\n",
            "Epoch 37/50\n",
            "11/11 [==============================] - 0s 8ms/step - loss: 0.1438 - accuracy: 0.9714 - val_loss: 0.1079 - val_accuracy: 0.9778\n",
            "Epoch 38/50\n",
            "11/11 [==============================] - 0s 7ms/step - loss: 0.1351 - accuracy: 0.9619 - val_loss: 0.1085 - val_accuracy: 0.9778\n",
            "Epoch 39/50\n",
            "11/11 [==============================] - 0s 7ms/step - loss: 0.1345 - accuracy: 0.9714 - val_loss: 0.1089 - val_accuracy: 0.9778\n",
            "Epoch 40/50\n",
            "11/11 [==============================] - 0s 8ms/step - loss: 0.1233 - accuracy: 0.9714 - val_loss: 0.0952 - val_accuracy: 1.0000\n",
            "Epoch 41/50\n",
            "11/11 [==============================] - 0s 8ms/step - loss: 0.1206 - accuracy: 0.9810 - val_loss: 0.1052 - val_accuracy: 0.9778\n",
            "Epoch 42/50\n",
            "11/11 [==============================] - 0s 8ms/step - loss: 0.1237 - accuracy: 0.9524 - val_loss: 0.0917 - val_accuracy: 1.0000\n",
            "Epoch 43/50\n",
            "11/11 [==============================] - 0s 8ms/step - loss: 0.1200 - accuracy: 0.9714 - val_loss: 0.0952 - val_accuracy: 0.9778\n",
            "Epoch 44/50\n",
            "11/11 [==============================] - 0s 13ms/step - loss: 0.1122 - accuracy: 0.9714 - val_loss: 0.0827 - val_accuracy: 1.0000\n",
            "Epoch 45/50\n",
            "11/11 [==============================] - 0s 12ms/step - loss: 0.1038 - accuracy: 0.9905 - val_loss: 0.0983 - val_accuracy: 0.9778\n",
            "Epoch 46/50\n",
            "11/11 [==============================] - 0s 7ms/step - loss: 0.1134 - accuracy: 0.9714 - val_loss: 0.0781 - val_accuracy: 1.0000\n",
            "Epoch 47/50\n",
            "11/11 [==============================] - 0s 7ms/step - loss: 0.1045 - accuracy: 0.9810 - val_loss: 0.0812 - val_accuracy: 1.0000\n",
            "Epoch 48/50\n",
            "11/11 [==============================] - 0s 7ms/step - loss: 0.1020 - accuracy: 0.9810 - val_loss: 0.0743 - val_accuracy: 1.0000\n",
            "Epoch 49/50\n",
            "11/11 [==============================] - 0s 8ms/step - loss: 0.0992 - accuracy: 0.9905 - val_loss: 0.0727 - val_accuracy: 1.0000\n",
            "Epoch 50/50\n",
            "11/11 [==============================] - 0s 9ms/step - loss: 0.0940 - accuracy: 0.9714 - val_loss: 0.0743 - val_accuracy: 1.0000\n",
            "2/2 [==============================] - 1s 8ms/step\n",
            "RNN Classification Report:\n",
            "                 precision    recall  f1-score   support\n",
            "\n",
            "    Iris-setosa       1.00      1.00      1.00        19\n",
            "Iris-versicolor       1.00      1.00      1.00        13\n",
            " Iris-virginica       1.00      1.00      1.00        13\n",
            "\n",
            "       accuracy                           1.00        45\n",
            "      macro avg       1.00      1.00      1.00        45\n",
            "   weighted avg       1.00      1.00      1.00        45\n",
            "\n"
          ]
        },
        {
          "output_type": "display_data",
          "data": {
            "text/plain": [
              "<Figure size 1000x700 with 2 Axes>"
            ],
            "image/png": "[encoded data removed]"
          },
          "metadata": {}
        }
      ]
    },
    {
      "cell_type": "code",
      "source": [
        "lstm_model = Sequential()\n",
        "lstm_model.add(LSTM(32, activation='relu', input_shape=(X_train.shape[1], 1)))\n",
        "lstm_model.add(Dense(3, activation='softmax'))\n",
        "\n",
        "lstm_model.compile(optimizer='adam', loss='categorical_crossentropy', metrics=['accuracy'])\n",
        "lstm_model.fit(X_train.reshape(-1, X_train.shape[1], 1), y_train, epochs=50, batch_size=10, validation_data=(X_test.reshape(-1, X_test.shape[1], 1), y_test))\n",
        "\n",
        "# Evaluate LSTM Model\n",
        "lstm_accuracy, lstm_f1 = evaluate_model(lstm_model, X_test.reshape(-1, X_test.shape[1], 1), y_test, \"LSTM\")"
      ],
      "metadata": {
        "colab": {
          "base_uri": "https://localhost:8080/",
          "height": 1000
        },
        "id": "mIgtImEpXx23",
        "outputId": "9e520adb-3f49-4a53-b749-9d2ac9e1a71f"
      },
      "execution_count": 15,
      "outputs": [
        {
          "output_type": "stream",
          "name": "stdout",
          "text": [
            "Epoch 1/50\n",
            "11/11 [==============================] - 5s 120ms/step - loss: 1.0914 - accuracy: 0.3333 - val_loss: 1.0649 - val_accuracy: 0.6889\n",
            "Epoch 2/50\n",
            "11/11 [==============================] - 0s 18ms/step - loss: 1.0543 - accuracy: 0.6476 - val_loss: 1.0254 - val_accuracy: 0.7111\n",
            "Epoch 3/50\n",
            "11/11 [==============================] - 0s 25ms/step - loss: 1.0219 - accuracy: 0.6381 - val_loss: 0.9867 - val_accuracy: 0.7111\n",
            "Epoch 4/50\n",
            "11/11 [==============================] - 0s 20ms/step - loss: 0.9881 - accuracy: 0.6381 - val_loss: 0.9451 - val_accuracy: 0.7111\n",
            "Epoch 5/50\n",
            "11/11 [==============================] - 0s 25ms/step - loss: 0.9518 - accuracy: 0.6286 - val_loss: 0.8994 - val_accuracy: 0.7111\n",
            "Epoch 6/50\n",
            "11/11 [==============================] - 0s 24ms/step - loss: 0.9119 - accuracy: 0.6286 - val_loss: 0.8501 - val_accuracy: 0.7111\n",
            "Epoch 7/50\n",
            "11/11 [==============================] - 0s 24ms/step - loss: 0.8662 - accuracy: 0.6286 - val_loss: 0.7944 - val_accuracy: 0.7111\n",
            "Epoch 8/50\n",
            "11/11 [==============================] - 0s 29ms/step - loss: 0.8147 - accuracy: 0.6286 - val_loss: 0.7333 - val_accuracy: 0.7111\n",
            "Epoch 9/50\n",
            "11/11 [==============================] - 0s 26ms/step - loss: 0.7637 - accuracy: 0.6286 - val_loss: 0.6709 - val_accuracy: 0.7111\n",
            "Epoch 10/50\n",
            "11/11 [==============================] - 0s 39ms/step - loss: 0.7077 - accuracy: 0.6571 - val_loss: 0.6245 - val_accuracy: 0.7333\n",
            "Epoch 11/50\n",
            "11/11 [==============================] - 0s 24ms/step - loss: 0.6595 - accuracy: 0.6762 - val_loss: 0.5876 - val_accuracy: 0.7556\n",
            "Epoch 12/50\n",
            "11/11 [==============================] - 0s 30ms/step - loss: 0.6146 - accuracy: 0.7048 - val_loss: 0.5498 - val_accuracy: 0.8222\n",
            "Epoch 13/50\n",
            "11/11 [==============================] - 0s 26ms/step - loss: 0.5789 - accuracy: 0.7619 - val_loss: 0.5142 - val_accuracy: 0.8444\n",
            "Epoch 14/50\n",
            "11/11 [==============================] - 0s 26ms/step - loss: 0.5395 - accuracy: 0.7905 - val_loss: 0.4909 - val_accuracy: 0.8444\n",
            "Epoch 15/50\n",
            "11/11 [==============================] - 0s 21ms/step - loss: 0.5039 - accuracy: 0.8476 - val_loss: 0.4546 - val_accuracy: 0.8444\n",
            "Epoch 16/50\n",
            "11/11 [==============================] - 0s 11ms/step - loss: 0.4745 - accuracy: 0.8857 - val_loss: 0.4194 - val_accuracy: 0.8667\n",
            "Epoch 17/50\n",
            "11/11 [==============================] - 0s 12ms/step - loss: 0.4431 - accuracy: 0.8857 - val_loss: 0.3859 - val_accuracy: 0.8667\n",
            "Epoch 18/50\n",
            "11/11 [==============================] - 0s 19ms/step - loss: 0.4125 - accuracy: 0.9048 - val_loss: 0.3459 - val_accuracy: 0.8889\n",
            "Epoch 19/50\n",
            "11/11 [==============================] - 0s 24ms/step - loss: 0.3864 - accuracy: 0.9143 - val_loss: 0.3354 - val_accuracy: 0.8667\n",
            "Epoch 20/50\n",
            "11/11 [==============================] - 0s 19ms/step - loss: 0.3616 - accuracy: 0.9048 - val_loss: 0.3107 - val_accuracy: 0.8667\n",
            "Epoch 21/50\n",
            "11/11 [==============================] - 0s 19ms/step - loss: 0.3398 - accuracy: 0.9333 - val_loss: 0.2913 - val_accuracy: 0.8889\n",
            "Epoch 22/50\n",
            "11/11 [==============================] - 0s 13ms/step - loss: 0.3248 - accuracy: 0.9429 - val_loss: 0.2657 - val_accuracy: 0.9111\n",
            "Epoch 23/50\n",
            "11/11 [==============================] - 0s 13ms/step - loss: 0.3047 - accuracy: 0.9333 - val_loss: 0.2642 - val_accuracy: 0.8667\n",
            "Epoch 24/50\n",
            "11/11 [==============================] - 0s 18ms/step - loss: 0.2892 - accuracy: 0.9333 - val_loss: 0.2369 - val_accuracy: 0.9111\n",
            "Epoch 25/50\n",
            "11/11 [==============================] - 0s 22ms/step - loss: 0.2699 - accuracy: 0.9238 - val_loss: 0.2332 - val_accuracy: 0.9111\n",
            "Epoch 26/50\n",
            "11/11 [==============================] - 0s 17ms/step - loss: 0.2595 - accuracy: 0.9524 - val_loss: 0.2028 - val_accuracy: 0.9556\n",
            "Epoch 27/50\n",
            "11/11 [==============================] - 0s 14ms/step - loss: 0.2453 - accuracy: 0.9429 - val_loss: 0.2066 - val_accuracy: 0.9333\n",
            "Epoch 28/50\n",
            "11/11 [==============================] - 0s 15ms/step - loss: 0.2287 - accuracy: 0.9524 - val_loss: 0.1858 - val_accuracy: 0.9556\n",
            "Epoch 29/50\n",
            "11/11 [==============================] - 0s 15ms/step - loss: 0.2148 - accuracy: 0.9524 - val_loss: 0.1738 - val_accuracy: 0.9556\n",
            "Epoch 30/50\n",
            "11/11 [==============================] - 0s 14ms/step - loss: 0.2057 - accuracy: 0.9619 - val_loss: 0.1613 - val_accuracy: 0.9556\n",
            "Epoch 31/50\n",
            "11/11 [==============================] - 0s 18ms/step - loss: 0.2060 - accuracy: 0.9429 - val_loss: 0.1613 - val_accuracy: 0.9556\n",
            "Epoch 32/50\n",
            "11/11 [==============================] - 0s 18ms/step - loss: 0.1813 - accuracy: 0.9524 - val_loss: 0.1423 - val_accuracy: 0.9778\n",
            "Epoch 33/50\n",
            "11/11 [==============================] - 0s 14ms/step - loss: 0.1735 - accuracy: 0.9524 - val_loss: 0.1381 - val_accuracy: 0.9556\n",
            "Epoch 34/50\n",
            "11/11 [==============================] - 0s 17ms/step - loss: 0.1657 - accuracy: 0.9524 - val_loss: 0.1354 - val_accuracy: 0.9556\n",
            "Epoch 35/50\n",
            "11/11 [==============================] - 0s 14ms/step - loss: 0.1555 - accuracy: 0.9524 - val_loss: 0.1209 - val_accuracy: 1.0000\n",
            "Epoch 36/50\n",
            "11/11 [==============================] - 0s 21ms/step - loss: 0.1518 - accuracy: 0.9429 - val_loss: 0.1154 - val_accuracy: 1.0000\n",
            "Epoch 37/50\n",
            "11/11 [==============================] - 0s 15ms/step - loss: 0.1403 - accuracy: 0.9524 - val_loss: 0.1219 - val_accuracy: 0.9778\n",
            "Epoch 38/50\n",
            "11/11 [==============================] - 0s 18ms/step - loss: 0.1512 - accuracy: 0.9524 - val_loss: 0.1091 - val_accuracy: 0.9778\n",
            "Epoch 39/50\n",
            "11/11 [==============================] - 0s 13ms/step - loss: 0.1329 - accuracy: 0.9619 - val_loss: 0.1021 - val_accuracy: 1.0000\n",
            "Epoch 40/50\n",
            "11/11 [==============================] - 0s 19ms/step - loss: 0.1613 - accuracy: 0.9333 - val_loss: 0.1148 - val_accuracy: 0.9778\n",
            "Epoch 41/50\n",
            "11/11 [==============================] - 0s 23ms/step - loss: 0.1239 - accuracy: 0.9619 - val_loss: 0.0899 - val_accuracy: 1.0000\n",
            "Epoch 42/50\n",
            "11/11 [==============================] - 0s 13ms/step - loss: 0.1246 - accuracy: 0.9524 - val_loss: 0.1029 - val_accuracy: 0.9778\n",
            "Epoch 43/50\n",
            "11/11 [==============================] - 0s 13ms/step - loss: 0.1153 - accuracy: 0.9619 - val_loss: 0.0874 - val_accuracy: 1.0000\n",
            "Epoch 44/50\n",
            "11/11 [==============================] - 0s 18ms/step - loss: 0.1141 - accuracy: 0.9429 - val_loss: 0.0946 - val_accuracy: 0.9778\n",
            "Epoch 45/50\n",
            "11/11 [==============================] - 0s 15ms/step - loss: 0.1255 - accuracy: 0.9524 - val_loss: 0.0857 - val_accuracy: 1.0000\n",
            "Epoch 46/50\n",
            "11/11 [==============================] - 0s 17ms/step - loss: 0.1129 - accuracy: 0.9429 - val_loss: 0.0775 - val_accuracy: 1.0000\n",
            "Epoch 47/50\n",
            "11/11 [==============================] - 0s 14ms/step - loss: 0.1014 - accuracy: 0.9524 - val_loss: 0.0934 - val_accuracy: 0.9778\n",
            "Epoch 48/50\n",
            "11/11 [==============================] - 0s 14ms/step - loss: 0.1032 - accuracy: 0.9619 - val_loss: 0.0751 - val_accuracy: 1.0000\n",
            "Epoch 49/50\n",
            "11/11 [==============================] - 0s 12ms/step - loss: 0.0987 - accuracy: 0.9524 - val_loss: 0.0781 - val_accuracy: 0.9778\n",
            "Epoch 50/50\n",
            "11/11 [==============================] - 0s 13ms/step - loss: 0.0992 - accuracy: 0.9619 - val_loss: 0.0727 - val_accuracy: 1.0000\n",
            "2/2 [==============================] - 0s 8ms/step\n",
            "LSTM Classification Report:\n",
            "                 precision    recall  f1-score   support\n",
            "\n",
            "    Iris-setosa       1.00      1.00      1.00        19\n",
            "Iris-versicolor       1.00      1.00      1.00        13\n",
            " Iris-virginica       1.00      1.00      1.00        13\n",
            "\n",
            "       accuracy                           1.00        45\n",
            "      macro avg       1.00      1.00      1.00        45\n",
            "   weighted avg       1.00      1.00      1.00        45\n",
            "\n"
          ]
        },
        {
          "output_type": "display_data",
          "data": {
            "text/plain": [
              "<Figure size 1000x700 with 2 Axes>"
            ],
            "image/png": "[encoded data removed]"
          },
          "metadata": {}
        }
      ]
    },
    {
      "cell_type": "code",
      "source": [
        "bilstm_model = Sequential()\n",
        "bilstm_model.add(Bidirectional(LSTM(32, activation='relu'), input_shape=(X_train.shape[1], 1)))\n",
        "bilstm_model.add(Dense(3, activation='softmax'))\n",
        "\n",
        "bilstm_model.compile(optimizer='adam', loss='categorical_crossentropy', metrics=['accuracy'])\n",
        "bilstm_model.fit(X_train.reshape(-1, X_train.shape[1], 1), y_train, epochs=50, batch_size=10, validation_data=(X_test.reshape(-1, X_test.shape[1], 1), y_test))\n",
        "\n",
        "# Evaluate BiLSTM Model\n",
        "bilstm_accuracy, bilstm_f1 = evaluate_model(bilstm_model, X_test.reshape(-1, X_test.shape[1], 1), y_test, \"BiLSTM\")\n"
      ],
      "metadata": {
        "colab": {
          "base_uri": "https://localhost:8080/",
          "height": 1000
        },
        "id": "wda-TVgAX0n3",
        "outputId": "2ea69507-a5e6-4098-e638-bf02aa7bd8fd"
      },
      "execution_count": 16,
      "outputs": [
        {
          "output_type": "stream",
          "name": "stdout",
          "text": [
            "Epoch 1/50\n",
            "11/11 [==============================] - 5s 86ms/step - loss: 1.0449 - accuracy: 0.6190 - val_loss: 1.0157 - val_accuracy: 0.7111\n",
            "Epoch 2/50\n",
            "11/11 [==============================] - 0s 10ms/step - loss: 1.0080 - accuracy: 0.6286 - val_loss: 0.9731 - val_accuracy: 0.7111\n",
            "Epoch 3/50\n",
            "11/11 [==============================] - 0s 11ms/step - loss: 0.9654 - accuracy: 0.6286 - val_loss: 0.9270 - val_accuracy: 0.7111\n",
            "Epoch 4/50\n",
            "11/11 [==============================] - 0s 12ms/step - loss: 0.9193 - accuracy: 0.6286 - val_loss: 0.8727 - val_accuracy: 0.7111\n",
            "Epoch 5/50\n",
            "11/11 [==============================] - 0s 12ms/step - loss: 0.8649 - accuracy: 0.6286 - val_loss: 0.8087 - val_accuracy: 0.7111\n",
            "Epoch 6/50\n",
            "11/11 [==============================] - 0s 14ms/step - loss: 0.7999 - accuracy: 0.6381 - val_loss: 0.7421 - val_accuracy: 0.7111\n",
            "Epoch 7/50\n",
            "11/11 [==============================] - 0s 19ms/step - loss: 0.7335 - accuracy: 0.6476 - val_loss: 0.6613 - val_accuracy: 0.7111\n",
            "Epoch 8/50\n",
            "11/11 [==============================] - 0s 10ms/step - loss: 0.6646 - accuracy: 0.6571 - val_loss: 0.5906 - val_accuracy: 0.7556\n",
            "Epoch 9/50\n",
            "11/11 [==============================] - 0s 11ms/step - loss: 0.6019 - accuracy: 0.6857 - val_loss: 0.5136 - val_accuracy: 0.8000\n",
            "Epoch 10/50\n",
            "11/11 [==============================] - 0s 10ms/step - loss: 0.5436 - accuracy: 0.7238 - val_loss: 0.4557 - val_accuracy: 0.8222\n",
            "Epoch 11/50\n",
            "11/11 [==============================] - 0s 10ms/step - loss: 0.4832 - accuracy: 0.7524 - val_loss: 0.4040 - val_accuracy: 0.8444\n",
            "Epoch 12/50\n",
            "11/11 [==============================] - 0s 13ms/step - loss: 0.4278 - accuracy: 0.8095 - val_loss: 0.3517 - val_accuracy: 0.8444\n",
            "Epoch 13/50\n",
            "11/11 [==============================] - 0s 11ms/step - loss: 0.3650 - accuracy: 0.8667 - val_loss: 0.3040 - val_accuracy: 0.8889\n",
            "Epoch 14/50\n",
            "11/11 [==============================] - 0s 15ms/step - loss: 0.3151 - accuracy: 0.9238 - val_loss: 0.2540 - val_accuracy: 0.9111\n",
            "Epoch 15/50\n",
            "11/11 [==============================] - 0s 11ms/step - loss: 0.2735 - accuracy: 0.9143 - val_loss: 0.2263 - val_accuracy: 0.9111\n",
            "Epoch 16/50\n",
            "11/11 [==============================] - 0s 11ms/step - loss: 0.2530 - accuracy: 0.9143 - val_loss: 0.2058 - val_accuracy: 0.9111\n",
            "Epoch 17/50\n",
            "11/11 [==============================] - 0s 11ms/step - loss: 0.2325 - accuracy: 0.9238 - val_loss: 0.1934 - val_accuracy: 0.9111\n",
            "Epoch 18/50\n",
            "11/11 [==============================] - 0s 11ms/step - loss: 0.2145 - accuracy: 0.9238 - val_loss: 0.1640 - val_accuracy: 0.9556\n",
            "Epoch 19/50\n",
            "11/11 [==============================] - 0s 11ms/step - loss: 0.2033 - accuracy: 0.9333 - val_loss: 0.1689 - val_accuracy: 0.9111\n",
            "Epoch 20/50\n",
            "11/11 [==============================] - 0s 10ms/step - loss: 0.1934 - accuracy: 0.9333 - val_loss: 0.1487 - val_accuracy: 0.9556\n",
            "Epoch 21/50\n",
            "11/11 [==============================] - 0s 13ms/step - loss: 0.1882 - accuracy: 0.9429 - val_loss: 0.1394 - val_accuracy: 0.9556\n",
            "Epoch 22/50\n",
            "11/11 [==============================] - 0s 15ms/step - loss: 0.1753 - accuracy: 0.9429 - val_loss: 0.1381 - val_accuracy: 0.9556\n",
            "Epoch 23/50\n",
            "11/11 [==============================] - 0s 11ms/step - loss: 0.1688 - accuracy: 0.9429 - val_loss: 0.1272 - val_accuracy: 0.9556\n",
            "Epoch 24/50\n",
            "11/11 [==============================] - 0s 11ms/step - loss: 0.1636 - accuracy: 0.9429 - val_loss: 0.1183 - val_accuracy: 0.9556\n",
            "Epoch 25/50\n",
            "11/11 [==============================] - 0s 11ms/step - loss: 0.1615 - accuracy: 0.9429 - val_loss: 0.1098 - val_accuracy: 0.9333\n",
            "Epoch 26/50\n",
            "11/11 [==============================] - 0s 11ms/step - loss: 0.1531 - accuracy: 0.9429 - val_loss: 0.1151 - val_accuracy: 0.9556\n",
            "Epoch 27/50\n",
            "11/11 [==============================] - 0s 13ms/step - loss: 0.1491 - accuracy: 0.9429 - val_loss: 0.1103 - val_accuracy: 0.9556\n",
            "Epoch 28/50\n",
            "11/11 [==============================] - 0s 15ms/step - loss: 0.1465 - accuracy: 0.9429 - val_loss: 0.0975 - val_accuracy: 0.9556\n",
            "Epoch 29/50\n",
            "11/11 [==============================] - 0s 17ms/step - loss: 0.1429 - accuracy: 0.9429 - val_loss: 0.0923 - val_accuracy: 0.9556\n",
            "Epoch 30/50\n",
            "11/11 [==============================] - 0s 12ms/step - loss: 0.1465 - accuracy: 0.9238 - val_loss: 0.0854 - val_accuracy: 0.9556\n",
            "Epoch 31/50\n",
            "11/11 [==============================] - 0s 11ms/step - loss: 0.1339 - accuracy: 0.9333 - val_loss: 0.0975 - val_accuracy: 0.9556\n",
            "Epoch 32/50\n",
            "11/11 [==============================] - 0s 10ms/step - loss: 0.1322 - accuracy: 0.9333 - val_loss: 0.0804 - val_accuracy: 0.9556\n",
            "Epoch 33/50\n",
            "11/11 [==============================] - 0s 10ms/step - loss: 0.1288 - accuracy: 0.9429 - val_loss: 0.0708 - val_accuracy: 0.9778\n",
            "Epoch 34/50\n",
            "11/11 [==============================] - 0s 14ms/step - loss: 0.1269 - accuracy: 0.9238 - val_loss: 0.0813 - val_accuracy: 0.9556\n",
            "Epoch 35/50\n",
            "11/11 [==============================] - 0s 13ms/step - loss: 0.1296 - accuracy: 0.9333 - val_loss: 0.0688 - val_accuracy: 0.9556\n",
            "Epoch 36/50\n",
            "11/11 [==============================] - 0s 12ms/step - loss: 0.1277 - accuracy: 0.9333 - val_loss: 0.0584 - val_accuracy: 1.0000\n",
            "Epoch 37/50\n",
            "11/11 [==============================] - 0s 11ms/step - loss: 0.1161 - accuracy: 0.9333 - val_loss: 0.0791 - val_accuracy: 0.9556\n",
            "Epoch 38/50\n",
            "11/11 [==============================] - 0s 11ms/step - loss: 0.1157 - accuracy: 0.9333 - val_loss: 0.0615 - val_accuracy: 0.9778\n",
            "Epoch 39/50\n",
            "11/11 [==============================] - 0s 11ms/step - loss: 0.1175 - accuracy: 0.9429 - val_loss: 0.0502 - val_accuracy: 1.0000\n",
            "Epoch 40/50\n",
            "11/11 [==============================] - 0s 10ms/step - loss: 0.1137 - accuracy: 0.9429 - val_loss: 0.0587 - val_accuracy: 0.9778\n",
            "Epoch 41/50\n",
            "11/11 [==============================] - 0s 10ms/step - loss: 0.1038 - accuracy: 0.9333 - val_loss: 0.0514 - val_accuracy: 1.0000\n",
            "Epoch 42/50\n",
            "11/11 [==============================] - 0s 12ms/step - loss: 0.1030 - accuracy: 0.9429 - val_loss: 0.0508 - val_accuracy: 1.0000\n",
            "Epoch 43/50\n",
            "11/11 [==============================] - 0s 13ms/step - loss: 0.1056 - accuracy: 0.9238 - val_loss: 0.0449 - val_accuracy: 1.0000\n",
            "Epoch 44/50\n",
            "11/11 [==============================] - 0s 12ms/step - loss: 0.0973 - accuracy: 0.9619 - val_loss: 0.0651 - val_accuracy: 0.9778\n",
            "Epoch 45/50\n",
            "11/11 [==============================] - 0s 9ms/step - loss: 0.1010 - accuracy: 0.9619 - val_loss: 0.0446 - val_accuracy: 1.0000\n",
            "Epoch 46/50\n",
            "11/11 [==============================] - 0s 10ms/step - loss: 0.1079 - accuracy: 0.9333 - val_loss: 0.0354 - val_accuracy: 1.0000\n",
            "Epoch 47/50\n",
            "11/11 [==============================] - 0s 10ms/step - loss: 0.0992 - accuracy: 0.9714 - val_loss: 0.0592 - val_accuracy: 1.0000\n",
            "Epoch 48/50\n",
            "11/11 [==============================] - 0s 10ms/step - loss: 0.0829 - accuracy: 0.9619 - val_loss: 0.0353 - val_accuracy: 1.0000\n",
            "Epoch 49/50\n",
            "11/11 [==============================] - 0s 11ms/step - loss: 0.1001 - accuracy: 0.9619 - val_loss: 0.0485 - val_accuracy: 1.0000\n",
            "Epoch 50/50\n",
            "11/11 [==============================] - 0s 11ms/step - loss: 0.0946 - accuracy: 0.9619 - val_loss: 0.0365 - val_accuracy: 1.0000\n"
          ]
        },
        {
          "output_type": "stream",
          "name": "stderr",
          "text": [
            "WARNING:tensorflow:5 out of the last 9 calls to <function Model.make_predict_function.<locals>.predict_function at 0x7d135f4b2200> triggered tf.function retracing. Tracing is expensive and the excessive number of tracings could be due to (1) creating @tf.function repeatedly in a loop, (2) passing tensors with different shapes, (3) passing Python objects instead of tensors. For (1), please define your @tf.function outside of the loop. For (2), @tf.function has reduce_retracing=True option that can avoid unnecessary retracing. For (3), please refer to https://www.tensorflow.org/guide/function#controlling_retracing and https://www.tensorflow.org/api_docs/python/tf/function for  more details.\n"
          ]
        },
        {
          "output_type": "stream",
          "name": "stdout",
          "text": [
            "2/2 [==============================] - 0s 9ms/step\n",
            "BiLSTM Classification Report:\n",
            "                 precision    recall  f1-score   support\n",
            "\n",
            "    Iris-setosa       1.00      1.00      1.00        19\n",
            "Iris-versicolor       1.00      1.00      1.00        13\n",
            " Iris-virginica       1.00      1.00      1.00        13\n",
            "\n",
            "       accuracy                           1.00        45\n",
            "      macro avg       1.00      1.00      1.00        45\n",
            "   weighted avg       1.00      1.00      1.00        45\n",
            "\n"
          ]
        },
        {
          "output_type": "display_data",
          "data": {
            "text/plain": [
              "<Figure size 1000x700 with 2 Axes>"
            ],
            "image/png": "[encoded data removed]"
          },
          "metadata": {}
        }
      ]
    },
    {
      "cell_type": "code",
      "source": [
        "print(X_train.shape)\n",
        "print(X_test.shape)\n",
        "print(y_train.shape)\n",
        "print(y_test.shape)"
      ],
      "metadata": {
        "colab": {
          "base_uri": "https://localhost:8080/"
        },
        "id": "MtzRTNLRZZHL",
        "outputId": "1cb90565-57d1-4367-8a16-70eec641c561"
      },
      "execution_count": 71,
      "outputs": [
        {
          "output_type": "stream",
          "name": "stdout",
          "text": [
            "(105, 4)\n",
            "(45, 4)\n",
            "(105, 3)\n",
            "(45, 3)\n"
          ]
        }
      ]
    },
    {
      "cell_type": "code",
      "source": [
        "from sklearn.preprocessing import StandardScaler\n",
        "sc = StandardScaler()\n",
        "X_train = sc.fit_transform(X_train)\n",
        "X_test = sc.transform(X_test)"
      ],
      "metadata": {
        "id": "tQsqI54Ke-rc"
      },
      "execution_count": 72,
      "outputs": []
    },
    {
      "cell_type": "code",
      "source": [
        "from sklearn.preprocessing import LabelEncoder\n",
        "label_encoder = LabelEncoder()\n",
        "data[\"species\"] = label_encoder.fit_transform(data['species'])"
      ],
      "metadata": {
        "id": "bAUVraAQfCHp"
      },
      "execution_count": 75,
      "outputs": []
    },
    {
      "cell_type": "code",
      "source": [
        "from sklearn.model_selection import train_test_split\n",
        "X_train, X_test, y_train, y_test = train_test_split(X, y, test_size = 0.30, random_state = 0)"
      ],
      "metadata": {
        "id": "ogDAuoLwfect"
      },
      "execution_count": 82,
      "outputs": []
    },
    {
      "cell_type": "code",
      "source": [
        "print(X_train.shape)\n",
        "print(X_test.shape)\n",
        "print(y_train.shape)\n",
        "print(y_test.shape)"
      ],
      "metadata": {
        "colab": {
          "base_uri": "https://localhost:8080/"
        },
        "id": "oQfeKsoyfjf7",
        "outputId": "3b605dab-9e22-480e-c58d-6cf2503b3286"
      },
      "execution_count": 83,
      "outputs": [
        {
          "output_type": "stream",
          "name": "stdout",
          "text": [
            "(105, 4)\n",
            "(45, 4)\n",
            "(105,)\n",
            "(45,)\n"
          ]
        }
      ]
    },
    {
      "cell_type": "code",
      "source": [
        "from sklearn.preprocessing import StandardScaler\n",
        "sc = StandardScaler()\n",
        "X_train = sc.fit_transform(X_train)\n",
        "X_test = sc.transform(X_test)"
      ],
      "metadata": {
        "id": "PyIDiadXfmDY"
      },
      "execution_count": 84,
      "outputs": []
    },
    {
      "cell_type": "code",
      "source": [
        "from sklearn.linear_model import LogisticRegression\n",
        "classifier = LogisticRegression(random_state = None)\n",
        "classifier.fit(X_train, y_train)"
      ],
      "metadata": {
        "colab": {
          "base_uri": "https://localhost:8080/",
          "height": 74
        },
        "id": "kHyOBjR6fnQ4",
        "outputId": "19e18e37-eecf-4d37-e94c-d3cb58772608"
      },
      "execution_count": 85,
      "outputs": [
        {
          "output_type": "execute_result",
          "data": {
            "text/plain": [
              "LogisticRegression()"
            ],
            "text/html": [
              "<style>#sk-container-id-2 {color: black;background-color: white;}#sk-container-id-2 pre{padding: 0;}#sk-container-id-2 div.sk-toggleable {background-color: white;}#sk-container-id-2 label.sk-toggleable__label {cursor: pointer;display: block;width: 100%;margin-bottom: 0;padding: 0.3em;box-sizing: border-box;text-align: center;}#sk-container-id-2 label.sk-toggleable__label-arrow:before {content: \"▸\";float: left;margin-right: 0.25em;color: #696969;}#sk-container-id-2 label.sk-toggleable__label-arrow:hover:before {color: black;}#sk-container-id-2 div.sk-estimator:hover label.sk-toggleable__label-arrow:before {color: black;}#sk-container-id-2 div.sk-toggleable__content {max-height: 0;max-width: 0;overflow: hidden;text-align: left;background-color: #f0f8ff;}#sk-container-id-2 div.sk-toggleable__content pre {margin: 0.2em;color: black;border-radius: 0.25em;background-color: #f0f8ff;}#sk-container-id-2 input.sk-toggleable__control:checked~div.sk-toggleable__content {max-height: 200px;max-width: 100%;overflow: auto;}#sk-container-id-2 input.sk-toggleable__control:checked~label.sk-toggleable__label-arrow:before {content: \"▾\";}#sk-container-id-2 div.sk-estimator input.sk-toggleable__control:checked~label.sk-toggleable__label {background-color: #d4ebff;}#sk-container-id-2 div.sk-label input.sk-toggleable__control:checked~label.sk-toggleable__label {background-color: #d4ebff;}#sk-container-id-2 input.sk-hidden--visually {border: 0;clip: rect(1px 1px 1px 1px);clip: rect(1px, 1px, 1px, 1px);height: 1px;margin: -1px;overflow: hidden;padding: 0;position: absolute;width: 1px;}#sk-container-id-2 div.sk-estimator {font-family: monospace;background-color: #f0f8ff;border: 1px dotted black;border-radius: 0.25em;box-sizing: border-box;margin-bottom: 0.5em;}#sk-container-id-2 div.sk-estimator:hover {background-color: #d4ebff;}#sk-container-id-2 div.sk-parallel-item::after {content: \"\";width: 100%;border-bottom: 1px solid gray;flex-grow: 1;}#sk-container-id-2 div.sk-label:hover label.sk-toggleable__label {background-color: #d4ebff;}#sk-container-id-2 div.sk-serial::before {content: \"\";position: absolute;border-left: 1px solid gray;box-sizing: border-box;top: 0;bottom: 0;left: 50%;z-index: 0;}#sk-container-id-2 div.sk-serial {display: flex;flex-direction: column;align-items: center;background-color: white;padding-right: 0.2em;padding-left: 0.2em;position: relative;}#sk-container-id-2 div.sk-item {position: relative;z-index: 1;}#sk-container-id-2 div.sk-parallel {display: flex;align-items: stretch;justify-content: center;background-color: white;position: relative;}#sk-container-id-2 div.sk-item::before, #sk-container-id-2 div.sk-parallel-item::before {content: \"\";position: absolute;border-left: 1px solid gray;box-sizing: border-box;top: 0;bottom: 0;left: 50%;z-index: -1;}#sk-container-id-2 div.sk-parallel-item {display: flex;flex-direction: column;z-index: 1;position: relative;background-color: white;}#sk-container-id-2 div.sk-parallel-item:first-child::after {align-self: flex-end;width: 50%;}#sk-container-id-2 div.sk-parallel-item:last-child::after {align-self: flex-start;width: 50%;}#sk-container-id-2 div.sk-parallel-item:only-child::after {width: 0;}#sk-container-id-2 div.sk-dashed-wrapped {border: 1px dashed gray;margin: 0 0.4em 0.5em 0.4em;box-sizing: border-box;padding-bottom: 0.4em;background-color: white;}#sk-container-id-2 div.sk-label label {font-family: monospace;font-weight: bold;display: inline-block;line-height: 1.2em;}#sk-container-id-2 div.sk-label-container {text-align: center;}#sk-container-id-2 div.sk-container {/* jupyter's `normalize.less` sets `[hidden] { display: none; }` but bootstrap.min.css set `[hidden] { display: none !important; }` so we also need the `!important` here to be able to override the default hidden behavior on the sphinx rendered scikit-learn.org. See: https://github.com/scikit-learn/scikit-learn/issues/21755 */display: inline-block !important;position: relative;}#sk-container-id-2 div.sk-text-repr-fallback {display: none;}</style><div id=\"sk-container-id-2\" class=\"sk-top-container\"><div class=\"sk-text-repr-fallback\"><pre>LogisticRegression()</pre><b>In a Jupyter environment, please rerun this cell to show the HTML representation or trust the notebook. <br />On GitHub, the HTML representation is unable to render, please try loading this page with nbviewer.org.</b></div><div class=\"sk-container\" hidden><div class=\"sk-item\"><div class=\"sk-estimator sk-toggleable\"><input class=\"sk-toggleable__control sk-hidden--visually\" id=\"sk-estimator-id-2\" type=\"checkbox\" checked><label for=\"sk-estimator-id-2\" class=\"sk-toggleable__label sk-toggleable__label-arrow\">LogisticRegression</label><div class=\"sk-toggleable__content\"><pre>LogisticRegression()</pre></div></div></div></div></div>"
            ]
          },
          "metadata": {},
          "execution_count": 85
        }
      ]
    },
    {
      "cell_type": "code",
      "source": [
        "from sklearn.metrics import confusion_matrix, accuracy_score, f1_score\n",
        "y_pred = classifier.predict(X_test)\n",
        "cm = confusion_matrix(y_test, y_pred)\n",
        "print(\"The Confusion Matrix is : \")\n",
        "print(cm)\n",
        "acc_lr=accuracy_score(y_test, y_pred)\n",
        "print(acc_lr)\n",
        "\n",
        "f1_lr=f1_score(y_test, y_pred, average='weighted')\n",
        "print(f1_lr)"
      ],
      "metadata": {
        "colab": {
          "base_uri": "https://localhost:8080/"
        },
        "id": "UECvFhUCfp50",
        "outputId": "11c8c892-df4e-4bc1-d661-037b78e6d895"
      },
      "execution_count": 96,
      "outputs": [
        {
          "output_type": "stream",
          "name": "stdout",
          "text": [
            "The Confusion Matrix is : \n",
            "[[16  0  0]\n",
            " [ 0 17  1]\n",
            " [ 0  2  9]]\n",
            "0.9333333333333333\n",
            "0.9326469326469327\n"
          ]
        }
      ]
    },
    {
      "cell_type": "code",
      "source": [
        "from sklearn.neighbors import KNeighborsClassifier\n",
        "classifier= KNeighborsClassifier(n_neighbors = 5, metric = 'minkowski', p = 2)\n",
        "classifier.fit(X_train, y_train)"
      ],
      "metadata": {
        "colab": {
          "base_uri": "https://localhost:8080/",
          "height": 74
        },
        "id": "_Livevl4f1R-",
        "outputId": "1d4aee8b-0cc5-4622-b1b0-ed2c8f0a50eb"
      },
      "execution_count": 97,
      "outputs": [
        {
          "output_type": "execute_result",
          "data": {
            "text/plain": [
              "KNeighborsClassifier()"
            ],
            "text/html": [
              "<style>#sk-container-id-6 {color: black;background-color: white;}#sk-container-id-6 pre{padding: 0;}#sk-container-id-6 div.sk-toggleable {background-color: white;}#sk-container-id-6 label.sk-toggleable__label {cursor: pointer;display: block;width: 100%;margin-bottom: 0;padding: 0.3em;box-sizing: border-box;text-align: center;}#sk-container-id-6 label.sk-toggleable__label-arrow:before {content: \"▸\";float: left;margin-right: 0.25em;color: #696969;}#sk-container-id-6 label.sk-toggleable__label-arrow:hover:before {color: black;}#sk-container-id-6 div.sk-estimator:hover label.sk-toggleable__label-arrow:before {color: black;}#sk-container-id-6 div.sk-toggleable__content {max-height: 0;max-width: 0;overflow: hidden;text-align: left;background-color: #f0f8ff;}#sk-container-id-6 div.sk-toggleable__content pre {margin: 0.2em;color: black;border-radius: 0.25em;background-color: #f0f8ff;}#sk-container-id-6 input.sk-toggleable__control:checked~div.sk-toggleable__content {max-height: 200px;max-width: 100%;overflow: auto;}#sk-container-id-6 input.sk-toggleable__control:checked~label.sk-toggleable__label-arrow:before {content: \"▾\";}#sk-container-id-6 div.sk-estimator input.sk-toggleable__control:checked~label.sk-toggleable__label {background-color: #d4ebff;}#sk-container-id-6 div.sk-label input.sk-toggleable__control:checked~label.sk-toggleable__label {background-color: #d4ebff;}#sk-container-id-6 input.sk-hidden--visually {border: 0;clip: rect(1px 1px 1px 1px);clip: rect(1px, 1px, 1px, 1px);height: 1px;margin: -1px;overflow: hidden;padding: 0;position: absolute;width: 1px;}#sk-container-id-6 div.sk-estimator {font-family: monospace;background-color: #f0f8ff;border: 1px dotted black;border-radius: 0.25em;box-sizing: border-box;margin-bottom: 0.5em;}#sk-container-id-6 div.sk-estimator:hover {background-color: #d4ebff;}#sk-container-id-6 div.sk-parallel-item::after {content: \"\";width: 100%;border-bottom: 1px solid gray;flex-grow: 1;}#sk-container-id-6 div.sk-label:hover label.sk-toggleable__label {background-color: #d4ebff;}#sk-container-id-6 div.sk-serial::before {content: \"\";position: absolute;border-left: 1px solid gray;box-sizing: border-box;top: 0;bottom: 0;left: 50%;z-index: 0;}#sk-container-id-6 div.sk-serial {display: flex;flex-direction: column;align-items: center;background-color: white;padding-right: 0.2em;padding-left: 0.2em;position: relative;}#sk-container-id-6 div.sk-item {position: relative;z-index: 1;}#sk-container-id-6 div.sk-parallel {display: flex;align-items: stretch;justify-content: center;background-color: white;position: relative;}#sk-container-id-6 div.sk-item::before, #sk-container-id-6 div.sk-parallel-item::before {content: \"\";position: absolute;border-left: 1px solid gray;box-sizing: border-box;top: 0;bottom: 0;left: 50%;z-index: -1;}#sk-container-id-6 div.sk-parallel-item {display: flex;flex-direction: column;z-index: 1;position: relative;background-color: white;}#sk-container-id-6 div.sk-parallel-item:first-child::after {align-self: flex-end;width: 50%;}#sk-container-id-6 div.sk-parallel-item:last-child::after {align-self: flex-start;width: 50%;}#sk-container-id-6 div.sk-parallel-item:only-child::after {width: 0;}#sk-container-id-6 div.sk-dashed-wrapped {border: 1px dashed gray;margin: 0 0.4em 0.5em 0.4em;box-sizing: border-box;padding-bottom: 0.4em;background-color: white;}#sk-container-id-6 div.sk-label label {font-family: monospace;font-weight: bold;display: inline-block;line-height: 1.2em;}#sk-container-id-6 div.sk-label-container {text-align: center;}#sk-container-id-6 div.sk-container {/* jupyter's `normalize.less` sets `[hidden] { display: none; }` but bootstrap.min.css set `[hidden] { display: none !important; }` so we also need the `!important` here to be able to override the default hidden behavior on the sphinx rendered scikit-learn.org. See: https://github.com/scikit-learn/scikit-learn/issues/21755 */display: inline-block !important;position: relative;}#sk-container-id-6 div.sk-text-repr-fallback {display: none;}</style><div id=\"sk-container-id-6\" class=\"sk-top-container\"><div class=\"sk-text-repr-fallback\"><pre>KNeighborsClassifier()</pre><b>In a Jupyter environment, please rerun this cell to show the HTML representation or trust the notebook. <br />On GitHub, the HTML representation is unable to render, please try loading this page with nbviewer.org.</b></div><div class=\"sk-container\" hidden><div class=\"sk-item\"><div class=\"sk-estimator sk-toggleable\"><input class=\"sk-toggleable__control sk-hidden--visually\" id=\"sk-estimator-id-6\" type=\"checkbox\" checked><label for=\"sk-estimator-id-6\" class=\"sk-toggleable__label sk-toggleable__label-arrow\">KNeighborsClassifier</label><div class=\"sk-toggleable__content\"><pre>KNeighborsClassifier()</pre></div></div></div></div></div>"
            ]
          },
          "metadata": {},
          "execution_count": 97
        }
      ]
    },
    {
      "cell_type": "code",
      "source": [
        "from sklearn.metrics import confusion_matrix, accuracy_score, f1_score\n",
        "y_pred = classifier.predict(X_test)\n",
        "cm = confusion_matrix(y_test, y_pred)\n",
        "print(\"The Confusion Matrix is : \")\n",
        "print(cm)\n",
        "acc_knn=accuracy_score(y_test, y_pred)\n",
        "print(acc_knn)\n",
        "\n",
        "f1_knn=f1_score(y_test, y_pred, average='weighted')\n",
        "print(f1_knn)"
      ],
      "metadata": {
        "colab": {
          "base_uri": "https://localhost:8080/"
        },
        "id": "ytdTlDiff2sZ",
        "outputId": "488ff2ba-8654-4671-de67-173d943a503d"
      },
      "execution_count": 98,
      "outputs": [
        {
          "output_type": "stream",
          "name": "stdout",
          "text": [
            "The Confusion Matrix is : \n",
            "[[16  0  0]\n",
            " [ 0 17  1]\n",
            " [ 0  0 11]]\n",
            "0.9777777777777777\n",
            "0.9779434092477569\n"
          ]
        }
      ]
    },
    {
      "cell_type": "code",
      "source": [
        "\n",
        "from sklearn.naive_bayes import GaussianNB\n",
        "classifier = GaussianNB()\n",
        "classifier.fit(X_train, y_train)"
      ],
      "metadata": {
        "colab": {
          "base_uri": "https://localhost:8080/",
          "height": 74
        },
        "id": "Nq6_dbK-gI5x",
        "outputId": "bbd8144b-b607-4f1e-d808-587dfc73e7bc"
      },
      "execution_count": 99,
      "outputs": [
        {
          "output_type": "execute_result",
          "data": {
            "text/plain": [
              "GaussianNB()"
            ],
            "text/html": [
              "<style>#sk-container-id-7 {color: black;background-color: white;}#sk-container-id-7 pre{padding: 0;}#sk-container-id-7 div.sk-toggleable {background-color: white;}#sk-container-id-7 label.sk-toggleable__label {cursor: pointer;display: block;width: 100%;margin-bottom: 0;padding: 0.3em;box-sizing: border-box;text-align: center;}#sk-container-id-7 label.sk-toggleable__label-arrow:before {content: \"▸\";float: left;margin-right: 0.25em;color: #696969;}#sk-container-id-7 label.sk-toggleable__label-arrow:hover:before {color: black;}#sk-container-id-7 div.sk-estimator:hover label.sk-toggleable__label-arrow:before {color: black;}#sk-container-id-7 div.sk-toggleable__content {max-height: 0;max-width: 0;overflow: hidden;text-align: left;background-color: #f0f8ff;}#sk-container-id-7 div.sk-toggleable__content pre {margin: 0.2em;color: black;border-radius: 0.25em;background-color: #f0f8ff;}#sk-container-id-7 input.sk-toggleable__control:checked~div.sk-toggleable__content {max-height: 200px;max-width: 100%;overflow: auto;}#sk-container-id-7 input.sk-toggleable__control:checked~label.sk-toggleable__label-arrow:before {content: \"▾\";}#sk-container-id-7 div.sk-estimator input.sk-toggleable__control:checked~label.sk-toggleable__label {background-color: #d4ebff;}#sk-container-id-7 div.sk-label input.sk-toggleable__control:checked~label.sk-toggleable__label {background-color: #d4ebff;}#sk-container-id-7 input.sk-hidden--visually {border: 0;clip: rect(1px 1px 1px 1px);clip: rect(1px, 1px, 1px, 1px);height: 1px;margin: -1px;overflow: hidden;padding: 0;position: absolute;width: 1px;}#sk-container-id-7 div.sk-estimator {font-family: monospace;background-color: #f0f8ff;border: 1px dotted black;border-radius: 0.25em;box-sizing: border-box;margin-bottom: 0.5em;}#sk-container-id-7 div.sk-estimator:hover {background-color: #d4ebff;}#sk-container-id-7 div.sk-parallel-item::after {content: \"\";width: 100%;border-bottom: 1px solid gray;flex-grow: 1;}#sk-container-id-7 div.sk-label:hover label.sk-toggleable__label {background-color: #d4ebff;}#sk-container-id-7 div.sk-serial::before {content: \"\";position: absolute;border-left: 1px solid gray;box-sizing: border-box;top: 0;bottom: 0;left: 50%;z-index: 0;}#sk-container-id-7 div.sk-serial {display: flex;flex-direction: column;align-items: center;background-color: white;padding-right: 0.2em;padding-left: 0.2em;position: relative;}#sk-container-id-7 div.sk-item {position: relative;z-index: 1;}#sk-container-id-7 div.sk-parallel {display: flex;align-items: stretch;justify-content: center;background-color: white;position: relative;}#sk-container-id-7 div.sk-item::before, #sk-container-id-7 div.sk-parallel-item::before {content: \"\";position: absolute;border-left: 1px solid gray;box-sizing: border-box;top: 0;bottom: 0;left: 50%;z-index: -1;}#sk-container-id-7 div.sk-parallel-item {display: flex;flex-direction: column;z-index: 1;position: relative;background-color: white;}#sk-container-id-7 div.sk-parallel-item:first-child::after {align-self: flex-end;width: 50%;}#sk-container-id-7 div.sk-parallel-item:last-child::after {align-self: flex-start;width: 50%;}#sk-container-id-7 div.sk-parallel-item:only-child::after {width: 0;}#sk-container-id-7 div.sk-dashed-wrapped {border: 1px dashed gray;margin: 0 0.4em 0.5em 0.4em;box-sizing: border-box;padding-bottom: 0.4em;background-color: white;}#sk-container-id-7 div.sk-label label {font-family: monospace;font-weight: bold;display: inline-block;line-height: 1.2em;}#sk-container-id-7 div.sk-label-container {text-align: center;}#sk-container-id-7 div.sk-container {/* jupyter's `normalize.less` sets `[hidden] { display: none; }` but bootstrap.min.css set `[hidden] { display: none !important; }` so we also need the `!important` here to be able to override the default hidden behavior on the sphinx rendered scikit-learn.org. See: https://github.com/scikit-learn/scikit-learn/issues/21755 */display: inline-block !important;position: relative;}#sk-container-id-7 div.sk-text-repr-fallback {display: none;}</style><div id=\"sk-container-id-7\" class=\"sk-top-container\"><div class=\"sk-text-repr-fallback\"><pre>GaussianNB()</pre><b>In a Jupyter environment, please rerun this cell to show the HTML representation or trust the notebook. <br />On GitHub, the HTML representation is unable to render, please try loading this page with nbviewer.org.</b></div><div class=\"sk-container\" hidden><div class=\"sk-item\"><div class=\"sk-estimator sk-toggleable\"><input class=\"sk-toggleable__control sk-hidden--visually\" id=\"sk-estimator-id-7\" type=\"checkbox\" checked><label for=\"sk-estimator-id-7\" class=\"sk-toggleable__label sk-toggleable__label-arrow\">GaussianNB</label><div class=\"sk-toggleable__content\"><pre>GaussianNB()</pre></div></div></div></div></div>"
            ]
          },
          "metadata": {},
          "execution_count": 99
        }
      ]
    },
    {
      "cell_type": "code",
      "source": [
        "from sklearn.metrics import confusion_matrix, accuracy_score, f1_score\n",
        "y_pred = classifier.predict(X_test)\n",
        "cm = confusion_matrix(y_test, y_pred)\n",
        "print(\"The Confusion Matrix is : \")\n",
        "print(cm)\n",
        "acc_nb=accuracy_score(y_test, y_pred)\n",
        "print(acc_nb)\n",
        "\n",
        "f1_nb=f1_score(y_test, y_pred, average='weighted')\n",
        "print(f1_nb)"
      ],
      "metadata": {
        "colab": {
          "base_uri": "https://localhost:8080/"
        },
        "id": "2Waz2zkwgNYa",
        "outputId": "22f22c35-0c2c-4db0-d4cf-395d5d78fa4a"
      },
      "execution_count": 100,
      "outputs": [
        {
          "output_type": "stream",
          "name": "stdout",
          "text": [
            "The Confusion Matrix is : \n",
            "[[16  0  0]\n",
            " [ 0 18  0]\n",
            " [ 0  0 11]]\n",
            "1.0\n",
            "1.0\n"
          ]
        }
      ]
    },
    {
      "cell_type": "code",
      "source": [
        "from sklearn.ensemble import RandomForestClassifier\n",
        "classifier = RandomForestClassifier(n_estimators = 10, criterion = 'entropy', random_state = 0)\n",
        "classifier.fit(X_train, y_train)"
      ],
      "metadata": {
        "colab": {
          "base_uri": "https://localhost:8080/",
          "height": 74
        },
        "id": "nDKcrYnsgVwI",
        "outputId": "6641e8e3-0cf0-4e96-ddfb-ee7fd8b920d9"
      },
      "execution_count": 101,
      "outputs": [
        {
          "output_type": "execute_result",
          "data": {
            "text/plain": [
              "RandomForestClassifier(criterion='entropy', n_estimators=10, random_state=0)"
            ],
            "text/html": [
              "<style>#sk-container-id-8 {color: black;background-color: white;}#sk-container-id-8 pre{padding: 0;}#sk-container-id-8 div.sk-toggleable {background-color: white;}#sk-container-id-8 label.sk-toggleable__label {cursor: pointer;display: block;width: 100%;margin-bottom: 0;padding: 0.3em;box-sizing: border-box;text-align: center;}#sk-container-id-8 label.sk-toggleable__label-arrow:before {content: \"▸\";float: left;margin-right: 0.25em;color: #696969;}#sk-container-id-8 label.sk-toggleable__label-arrow:hover:before {color: black;}#sk-container-id-8 div.sk-estimator:hover label.sk-toggleable__label-arrow:before {color: black;}#sk-container-id-8 div.sk-toggleable__content {max-height: 0;max-width: 0;overflow: hidden;text-align: left;background-color: #f0f8ff;}#sk-container-id-8 div.sk-toggleable__content pre {margin: 0.2em;color: black;border-radius: 0.25em;background-color: #f0f8ff;}#sk-container-id-8 input.sk-toggleable__control:checked~div.sk-toggleable__content {max-height: 200px;max-width: 100%;overflow: auto;}#sk-container-id-8 input.sk-toggleable__control:checked~label.sk-toggleable__label-arrow:before {content: \"▾\";}#sk-container-id-8 div.sk-estimator input.sk-toggleable__control:checked~label.sk-toggleable__label {background-color: #d4ebff;}#sk-container-id-8 div.sk-label input.sk-toggleable__control:checked~label.sk-toggleable__label {background-color: #d4ebff;}#sk-container-id-8 input.sk-hidden--visually {border: 0;clip: rect(1px 1px 1px 1px);clip: rect(1px, 1px, 1px, 1px);height: 1px;margin: -1px;overflow: hidden;padding: 0;position: absolute;width: 1px;}#sk-container-id-8 div.sk-estimator {font-family: monospace;background-color: #f0f8ff;border: 1px dotted black;border-radius: 0.25em;box-sizing: border-box;margin-bottom: 0.5em;}#sk-container-id-8 div.sk-estimator:hover {background-color: #d4ebff;}#sk-container-id-8 div.sk-parallel-item::after {content: \"\";width: 100%;border-bottom: 1px solid gray;flex-grow: 1;}#sk-container-id-8 div.sk-label:hover label.sk-toggleable__label {background-color: #d4ebff;}#sk-container-id-8 div.sk-serial::before {content: \"\";position: absolute;border-left: 1px solid gray;box-sizing: border-box;top: 0;bottom: 0;left: 50%;z-index: 0;}#sk-container-id-8 div.sk-serial {display: flex;flex-direction: column;align-items: center;background-color: white;padding-right: 0.2em;padding-left: 0.2em;position: relative;}#sk-container-id-8 div.sk-item {position: relative;z-index: 1;}#sk-container-id-8 div.sk-parallel {display: flex;align-items: stretch;justify-content: center;background-color: white;position: relative;}#sk-container-id-8 div.sk-item::before, #sk-container-id-8 div.sk-parallel-item::before {content: \"\";position: absolute;border-left: 1px solid gray;box-sizing: border-box;top: 0;bottom: 0;left: 50%;z-index: -1;}#sk-container-id-8 div.sk-parallel-item {display: flex;flex-direction: column;z-index: 1;position: relative;background-color: white;}#sk-container-id-8 div.sk-parallel-item:first-child::after {align-self: flex-end;width: 50%;}#sk-container-id-8 div.sk-parallel-item:last-child::after {align-self: flex-start;width: 50%;}#sk-container-id-8 div.sk-parallel-item:only-child::after {width: 0;}#sk-container-id-8 div.sk-dashed-wrapped {border: 1px dashed gray;margin: 0 0.4em 0.5em 0.4em;box-sizing: border-box;padding-bottom: 0.4em;background-color: white;}#sk-container-id-8 div.sk-label label {font-family: monospace;font-weight: bold;display: inline-block;line-height: 1.2em;}#sk-container-id-8 div.sk-label-container {text-align: center;}#sk-container-id-8 div.sk-container {/* jupyter's `normalize.less` sets `[hidden] { display: none; }` but bootstrap.min.css set `[hidden] { display: none !important; }` so we also need the `!important` here to be able to override the default hidden behavior on the sphinx rendered scikit-learn.org. See: https://github.com/scikit-learn/scikit-learn/issues/21755 */display: inline-block !important;position: relative;}#sk-container-id-8 div.sk-text-repr-fallback {display: none;}</style><div id=\"sk-container-id-8\" class=\"sk-top-container\"><div class=\"sk-text-repr-fallback\"><pre>RandomForestClassifier(criterion=&#x27;entropy&#x27;, n_estimators=10, random_state=0)</pre><b>In a Jupyter environment, please rerun this cell to show the HTML representation or trust the notebook. <br />On GitHub, the HTML representation is unable to render, please try loading this page with nbviewer.org.</b></div><div class=\"sk-container\" hidden><div class=\"sk-item\"><div class=\"sk-estimator sk-toggleable\"><input class=\"sk-toggleable__control sk-hidden--visually\" id=\"sk-estimator-id-8\" type=\"checkbox\" checked><label for=\"sk-estimator-id-8\" class=\"sk-toggleable__label sk-toggleable__label-arrow\">RandomForestClassifier</label><div class=\"sk-toggleable__content\"><pre>RandomForestClassifier(criterion=&#x27;entropy&#x27;, n_estimators=10, random_state=0)</pre></div></div></div></div></div>"
            ]
          },
          "metadata": {},
          "execution_count": 101
        }
      ]
    },
    {
      "cell_type": "code",
      "source": [
        "from sklearn.metrics import confusion_matrix, accuracy_score, f1_score\n",
        "y_pred = classifier.predict(X_test)\n",
        "cm = confusion_matrix(y_test, y_pred)\n",
        "print(\"The Confusion Matrix is : \")\n",
        "print(cm)\n",
        "acc_rf=accuracy_score(y_test, y_pred)\n",
        "print(acc_rf)\n",
        "\n",
        "f1_rf=f1_score(y_test, y_pred, average='weighted')\n",
        "print(f1_rf)"
      ],
      "metadata": {
        "colab": {
          "base_uri": "https://localhost:8080/"
        },
        "id": "r9pTPCPFgX2T",
        "outputId": "b004bf36-d897-49a4-97d6-e54de6972e93"
      },
      "execution_count": 102,
      "outputs": [
        {
          "output_type": "stream",
          "name": "stdout",
          "text": [
            "The Confusion Matrix is : \n",
            "[[16  0  0]\n",
            " [ 0 17  1]\n",
            " [ 0  2  9]]\n",
            "0.9333333333333333\n",
            "0.9326469326469327\n"
          ]
        }
      ]
    },
    {
      "cell_type": "code",
      "source": [
        "results = {\n",
        "    \"Model\": [\"CNN\", \"MLP\", \"RNN\", \"LSTM\", \"BiLSTM\", \"Random Forest\", \"Logistic Regression\", \"k-NN\", \"Gaussian\"],\n",
        "    \"Accuracy\": [cnn_accuracy, mlp_accuracy, rnn_accuracy, lstm_accuracy, bilstm_accuracy, acc_rf, acc_lr, acc_knn, acc_nb],\n",
        "    \"F1 Score\": [cnn_f1, mlp_f1, rnn_f1, lstm_f1, bilstm_f1, f1_rf, f1_lr,f1_knn,f1_nb]\n",
        "}\n",
        "results_df = pd.DataFrame(results)\n",
        "results_df = results_df.sort_values(by='Accuracy', ascending=True)\n",
        "print(results_df)"
      ],
      "metadata": {
        "colab": {
          "base_uri": "https://localhost:8080/"
        },
        "id": "uSrLrBodYpsS",
        "outputId": "a5c19f4b-f270-46ee-cd0b-577054904b61"
      },
      "execution_count": 106,
      "outputs": [
        {
          "output_type": "stream",
          "name": "stdout",
          "text": [
            "                 Model  Accuracy  F1 Score\n",
            "5        Random Forest  0.933333  0.932647\n",
            "6  Logistic Regression  0.933333  0.932647\n",
            "7                 k-NN  0.977778  0.977943\n",
            "0                  CNN  1.000000  1.000000\n",
            "1                  MLP  1.000000  1.000000\n",
            "2                  RNN  1.000000  1.000000\n",
            "3                 LSTM  1.000000  1.000000\n",
            "4               BiLSTM  1.000000  1.000000\n",
            "8             Gaussian  1.000000  1.000000\n"
          ]
        }
      ]
    },
    {
      "cell_type": "code",
      "source": [],
      "metadata": {
        "id": "zAkyr9kldVrK"
      },
      "execution_count": null,
      "outputs": []
    }
  ]
}